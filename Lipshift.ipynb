{
  "nbformat": 4,
  "nbformat_minor": 0,
  "metadata": {
    "colab": {
      "provenance": [],
      "gpuType": "T4",
      "authorship_tag": "ABX9TyOGweGT8BZXpb+dax2UQNgE",
      "include_colab_link": true
    },
    "kernelspec": {
      "name": "python3",
      "display_name": "Python 3"
    },
    "language_info": {
      "name": "python"
    },
    "accelerator": "GPU"
  },
  "cells": [
    {
      "cell_type": "markdown",
      "metadata": {
        "id": "view-in-github",
        "colab_type": "text"
      },
      "source": [
        "<a href=\"https://colab.research.google.com/github/PranavAnand587/Lipschitz-Transformer/blob/main/Lipshift.ipynb\" target=\"_parent\"><img src=\"https://colab.research.google.com/assets/colab-badge.svg\" alt=\"Open In Colab\"/></a>"
      ]
    },
    {
      "cell_type": "code",
      "execution_count": 14,
      "metadata": {
        "id": "xScHXCNmC4zD"
      },
      "outputs": [],
      "source": [
        "\"\"\"\n",
        "LipShift + EMMA – minimal, fully-Lipschitz, certifiable on CIFAR-10\n",
        "No warmup, prints clean + verified acc + lc every epoch\n",
        "\"\"\"\n",
        "import torch, torch.nn as nn, torch.nn.functional as F\n",
        "import torchvision, torchvision.transforms as T\n",
        "from torch.nn.utils import spectral_norm\n",
        "from torch.utils.data import DataLoader\n",
        "import math, time, os"
      ]
    },
    {
      "cell_type": "code",
      "source": [
        "\n",
        "# 1-Lip modules\n",
        "class CenterNorm(nn.Module):\n",
        "    \"\"\"1-Lipschitz channel centring (Qi et al.). instead of LayerNorm\"\"\"\n",
        "    def __init__(self, C, eps=1e-6):\n",
        "        super().__init__()\n",
        "        self.scale = C / (C - 1.) if C > 1 else 1.\n",
        "        self.weight = nn.Parameter(torch.ones(C))\n",
        "        self.bias   = nn.Parameter(torch.zeros(C))\n",
        "    def forward(self, x):                       # (B,N,C)\n",
        "        mean = x.mean(-1, keepdim=True)\n",
        "        x = self.scale * (x - mean)\n",
        "        return self.weight * x + self.bias\n",
        "\n",
        "\n",
        "class ChannelShift(nn.Module):\n",
        "    def __init__(self, ratio=0.25):\n",
        "        super().__init__()\n",
        "        self.ratio = ratio\n",
        "    def forward(self, x):                       # (B,N,C)\n",
        "        shift = int(x.shape[-1] * self.ratio)\n",
        "        return torch.cat([x[..., -shift:], x[..., :-shift]], -1)\n",
        "\n",
        "\n",
        "class MinMax(nn.Module):           # 1-Lip activation\n",
        "    def forward(self, x):\n",
        "        return x.clamp(-1, 1)\n",
        "\n",
        "\n",
        "class LipShiftBlock(nn.Module):\n",
        "    def __init__(self, dim, drop=0.0):\n",
        "        super().__init__()\n",
        "        self.norm  = CenterNorm(dim)\n",
        "        self.shift = ChannelShift()\n",
        "        self.fc1   = spectral_norm(nn.Linear(dim, dim))\n",
        "        self.act   = MinMax()\n",
        "        self.fc2   = spectral_norm(nn.Linear(dim, dim))\n",
        "        self.drop  = nn.Dropout(drop)\n",
        "        self.alpha = nn.Parameter(torch.zeros(1))\n",
        "\n",
        "    def forward(self, x):\n",
        "        res = x\n",
        "        x = self.norm(x)\n",
        "        x = self.shift(x)\n",
        "        x = self.fc1(x)\n",
        "        x = self.act(x)\n",
        "        x = self.fc2(x)\n",
        "        x = self.drop(x)\n",
        "        return res + torch.tanh(self.alpha) * x\n"
      ],
      "metadata": {
        "id": "OH_wGr8FPRUc"
      },
      "execution_count": 15,
      "outputs": []
    },
    {
      "cell_type": "code",
      "source": [
        "\n",
        "\n",
        "# model\n",
        "class LipShiftNet(nn.Module):\n",
        "    def __init__(self, img_size=32, patch=4, in_ch=3, num_cls=10,\n",
        "                 dim=96, depth=4):\n",
        "        super().__init__()\n",
        "        self.patch = spectral_norm(\n",
        "            nn.Conv2d(in_ch, dim, kernel_size=patch, stride=patch))\n",
        "        num_p = (img_size // patch) ** 2\n",
        "        self.pos_embed = nn.Parameter(torch.zeros(1, num_p, dim))\n",
        "        self.blocks = nn.Sequential(*[LipShiftBlock(dim) for _ in range(depth)])\n",
        "        self.norm = CenterNorm(dim)\n",
        "        self.head = spectral_norm(nn.Linear(dim, num_cls))\n",
        "        self.depth = depth\n",
        "        nn.init.trunc_normal_(self.pos_embed, std=0.02)\n",
        "\n",
        "    def forward(self, x):\n",
        "        x = self.patch(x)                 # (B,dim,H,W)\n",
        "        x = x.flatten(2).transpose(1, 2)  # (B,N,dim)\n",
        "        x = x + self.pos_embed\n",
        "        x = self.blocks(x)\n",
        "        x = x.mean(1)                     # GAP\n",
        "        x = self.norm(x)\n",
        "        return self.head(x)\n",
        "\n",
        "    # analytic lc used by EMMA\n",
        "    def get_lc(self):\n",
        "        with torch.no_grad():\n",
        "            alpha_max = max(torch.tanh(b.alpha.abs()).item() for b in self.blocks)\n",
        "            lc = (1 + alpha_max) ** self.depth\n",
        "            # include patch-proj + head spectral norms\n",
        "            for m in (self.patch, self.head):\n",
        "                w = m.weight.view(m.weight.size(0), -1)\n",
        "                lc *= torch.linalg.matrix_norm(w, 2).item()\n",
        "        return lc"
      ],
      "metadata": {
        "id": "kQAhytISP2KG"
      },
      "execution_count": 16,
      "outputs": []
    },
    {
      "cell_type": "code",
      "source": [
        "\n",
        "\n",
        "# EMMA loss\n",
        "def emma_loss(model, x, y, lc, eps=8/255):\n",
        "    logits = model(x)                                   # (B,Cls)\n",
        "    B, C = logits.shape\n",
        "    y_true = y.view(-1, 1)\n",
        "    # margin matrix: lc * ||w_y - w_i||\n",
        "    W = model.head.weight                               # (Cls, dim)\n",
        "    W_y = W.gather(0, y_true.expand(-1, W.size(1)))   # (B, dim)\n",
        "    diff = (W_y.unsqueeze(1) - W.unsqueeze(0))        # (B,Cls,dim)\n",
        "    margin = lc * diff.norm(p=2, dim=-1)                # (B,Cls)\n",
        "    # logits with margin\n",
        "    logits = logits - logits.gather(1, y_true)          # centre true class\n",
        "    eps_ji = -(logits / (margin * eps + 1e-8)).clamp(0.01, 1).detach()\n",
        "    logits_rob = logits + eps_ji * eps * margin\n",
        "    return F.cross_entropy(logits_rob, y.view(-1))\n"
      ],
      "metadata": {
        "id": "4m6xHwWfP48K"
      },
      "execution_count": 17,
      "outputs": []
    },
    {
      "cell_type": "code",
      "source": [
        "\n",
        "\n",
        "# train / eval\n",
        "@torch.no_grad()\n",
        "def evaluate(model, loader, device=\"cpu\", eps=8/255):\n",
        "    model.eval()\n",
        "    lc = model.get_lc()\n",
        "    clean, rob = 0, 0\n",
        "    for x, y in loader:\n",
        "        x, y = x.to(device), y.to(device)\n",
        "        out = model(x)\n",
        "        clean += (out.argmax(1) == y).sum().item()\n",
        "        # quick verified accuracy: predict same within eps-ball\n",
        "        margin = lc * 1.0           # worst-case perturbation ≤ eps\n",
        "        # simplest certified rule: margin < 1 → certifiably correct\n",
        "        cert = (out.gather(1, y.view(-1,1)).squeeze() -\n",
        "                out.max(1)[0] + margin * eps < 0)\n",
        "        rob  += cert.sum().item()\n",
        "    N = len(loader.dataset)\n",
        "    return clean/N, rob/N, lc\n"
      ],
      "metadata": {
        "id": "6gb6JeScP6tH"
      },
      "execution_count": 18,
      "outputs": []
    },
    {
      "cell_type": "code",
      "source": [
        "from tqdm import tqdm\n",
        "\n",
        "def train():\n",
        "    device = 'cuda'\n",
        "    transform = T.Compose([T.ToTensor(),\n",
        "                           T.Normalize((0.5, 0.5, 0.5), (0.5, 0.5, 0.5))])\n",
        "    trainset = torchvision.datasets.CIFAR10(root='./data', train=True,\n",
        "                                            download=True, transform=transform)\n",
        "    testset  = torchvision.datasets.CIFAR10(root='./data', train=False,\n",
        "                                            download=True, transform=transform)\n",
        "    train_loader = DataLoader(trainset, batch_size=128, shuffle=True, num_workers=4)\n",
        "    test_loader  = DataLoader(testset , batch_size=256, shuffle=False, num_workers=4)\n",
        "\n",
        "    model = LipShiftNet(dim=128, depth=6).to(device)\n",
        "    opt = torch.optim.AdamW(model.parameters(), lr=3e-4, weight_decay=5e-2)\n",
        "    sched = torch.optim.lr_scheduler.CosineAnnealingLR(opt, T_max=100)\n",
        "\n",
        "    for epoch in range(100):\n",
        "        t0 = time.time()\n",
        "        model.train()\n",
        "        loop = tqdm(train_loader, desc=f\"Epoch {epoch+1}/100\", leave=False)\n",
        "        for x, y in loop:\n",
        "            x, y = x.to(device), y.to(device)\n",
        "            opt.zero_grad()\n",
        "            lc = model.get_lc()\n",
        "            loss = emma_loss(model, x, y, lc, eps=8/255)\n",
        "            loss.backward()\n",
        "            opt.step()\n",
        "            loop.set_postfix(loss=loss.item(), lc=f\"{lc:.2f}\")\n",
        "\n",
        "        sched.step()\n",
        "        clean, ver, lc = evaluate(model, test_loader)\n",
        "        print(f'epoch {epoch:02d}  clean {clean*100:5.1f}%  '\n",
        "              f'verified {ver*100:5.1f}%  lc {lc:6.2f}  ({time.time()-t0:4.1f}s)')\n",
        "\n",
        "    torch.save(model.state_dict(), 'lipshift_emma.pt')\n",
        "    print('Saved lipshift_emma.pt')\n",
        "\n",
        "if __name__ == '__main__':\n",
        "    train()\n"
      ],
      "metadata": {
        "colab": {
          "base_uri": "https://localhost:8080/"
        },
        "id": "LUbr8seaP-ZE",
        "outputId": "bdc1f12d-fd6a-43ff-fa2e-a0dc20f122ed"
      },
      "execution_count": null,
      "outputs": [
        {
          "output_type": "stream",
          "name": "stderr",
          "text": []
        },
        {
          "output_type": "stream",
          "name": "stdout",
          "text": [
            "epoch 00  clean  23.5%  verified  65.8%  lc   2.11  (22.6s)\n"
          ]
        },
        {
          "output_type": "stream",
          "name": "stderr",
          "text": []
        },
        {
          "output_type": "stream",
          "name": "stdout",
          "text": [
            "epoch 01  clean  26.2%  verified  64.7%  lc   3.27  (22.5s)\n"
          ]
        },
        {
          "output_type": "stream",
          "name": "stderr",
          "text": []
        },
        {
          "output_type": "stream",
          "name": "stdout",
          "text": [
            "epoch 02  clean  26.0%  verified  63.2%  lc   4.39  (23.2s)\n"
          ]
        },
        {
          "output_type": "stream",
          "name": "stderr",
          "text": []
        },
        {
          "output_type": "stream",
          "name": "stdout",
          "text": [
            "epoch 03  clean  29.0%  verified  57.4%  lc   5.72  (22.4s)\n"
          ]
        },
        {
          "output_type": "stream",
          "name": "stderr",
          "text": []
        },
        {
          "output_type": "stream",
          "name": "stdout",
          "text": [
            "epoch 04  clean  30.0%  verified  52.6%  lc   8.03  (22.6s)\n"
          ]
        },
        {
          "output_type": "stream",
          "name": "stderr",
          "text": []
        },
        {
          "output_type": "stream",
          "name": "stdout",
          "text": [
            "epoch 05  clean  31.3%  verified  45.8%  lc  10.85  (22.3s)\n"
          ]
        },
        {
          "output_type": "stream",
          "name": "stderr",
          "text": []
        },
        {
          "output_type": "stream",
          "name": "stdout",
          "text": [
            "epoch 06  clean  32.6%  verified  43.8%  lc  14.21  (22.3s)\n"
          ]
        },
        {
          "output_type": "stream",
          "name": "stderr",
          "text": []
        },
        {
          "output_type": "stream",
          "name": "stdout",
          "text": [
            "epoch 07  clean  34.6%  verified  37.2%  lc  18.05  (21.2s)\n"
          ]
        },
        {
          "output_type": "stream",
          "name": "stderr",
          "text": []
        },
        {
          "output_type": "stream",
          "name": "stdout",
          "text": [
            "epoch 08  clean  34.2%  verified  37.7%  lc  20.68  (22.2s)\n"
          ]
        },
        {
          "output_type": "stream",
          "name": "stderr",
          "text": []
        },
        {
          "output_type": "stream",
          "name": "stdout",
          "text": [
            "epoch 09  clean  35.7%  verified  35.1%  lc  23.24  (22.5s)\n"
          ]
        },
        {
          "output_type": "stream",
          "name": "stderr",
          "text": []
        },
        {
          "output_type": "stream",
          "name": "stdout",
          "text": [
            "epoch 10  clean  36.4%  verified  31.7%  lc  26.60  (23.3s)\n"
          ]
        },
        {
          "output_type": "stream",
          "name": "stderr",
          "text": []
        },
        {
          "output_type": "stream",
          "name": "stdout",
          "text": [
            "epoch 11  clean  38.0%  verified  27.4%  lc  28.31  (22.4s)\n"
          ]
        },
        {
          "output_type": "stream",
          "name": "stderr",
          "text": []
        },
        {
          "output_type": "stream",
          "name": "stdout",
          "text": [
            "epoch 12  clean  39.4%  verified  26.7%  lc  33.12  (21.8s)\n"
          ]
        },
        {
          "output_type": "stream",
          "name": "stderr",
          "text": []
        },
        {
          "output_type": "stream",
          "name": "stdout",
          "text": [
            "epoch 13  clean  39.7%  verified  23.5%  lc  34.05  (22.4s)\n"
          ]
        },
        {
          "output_type": "stream",
          "name": "stderr",
          "text": []
        },
        {
          "output_type": "stream",
          "name": "stdout",
          "text": [
            "epoch 14  clean  39.8%  verified  22.2%  lc  37.40  (22.6s)\n"
          ]
        },
        {
          "output_type": "stream",
          "name": "stderr",
          "text": []
        },
        {
          "output_type": "stream",
          "name": "stdout",
          "text": [
            "epoch 15  clean  41.2%  verified  20.4%  lc  40.38  (22.6s)\n"
          ]
        },
        {
          "output_type": "stream",
          "name": "stderr",
          "text": []
        },
        {
          "output_type": "stream",
          "name": "stdout",
          "text": [
            "epoch 16  clean  42.0%  verified  21.4%  lc  42.65  (21.7s)\n"
          ]
        },
        {
          "output_type": "stream",
          "name": "stderr",
          "text": []
        },
        {
          "output_type": "stream",
          "name": "stdout",
          "text": [
            "epoch 17  clean  41.5%  verified  22.9%  lc  45.98  (22.4s)\n"
          ]
        },
        {
          "output_type": "stream",
          "name": "stderr",
          "text": []
        },
        {
          "output_type": "stream",
          "name": "stdout",
          "text": [
            "epoch 18  clean  41.9%  verified  16.6%  lc  46.08  (22.9s)\n"
          ]
        },
        {
          "output_type": "stream",
          "name": "stderr",
          "text": []
        },
        {
          "output_type": "stream",
          "name": "stdout",
          "text": [
            "epoch 19  clean  43.3%  verified  17.9%  lc  49.37  (23.6s)\n"
          ]
        },
        {
          "output_type": "stream",
          "name": "stderr",
          "text": []
        },
        {
          "output_type": "stream",
          "name": "stdout",
          "text": [
            "epoch 20  clean  43.5%  verified  17.2%  lc  49.54  (22.5s)\n"
          ]
        },
        {
          "output_type": "stream",
          "name": "stderr",
          "text": []
        },
        {
          "output_type": "stream",
          "name": "stdout",
          "text": [
            "epoch 21  clean  43.7%  verified  17.1%  lc  51.08  (21.8s)\n"
          ]
        },
        {
          "output_type": "stream",
          "name": "stderr",
          "text": []
        },
        {
          "output_type": "stream",
          "name": "stdout",
          "text": [
            "epoch 22  clean  44.3%  verified  15.6%  lc  53.20  (22.8s)\n"
          ]
        },
        {
          "output_type": "stream",
          "name": "stderr",
          "text": []
        },
        {
          "output_type": "stream",
          "name": "stdout",
          "text": [
            "epoch 23  clean  44.7%  verified  17.4%  lc  55.40  (22.7s)\n"
          ]
        },
        {
          "output_type": "stream",
          "name": "stderr",
          "text": []
        },
        {
          "output_type": "stream",
          "name": "stdout",
          "text": [
            "epoch 24  clean  45.3%  verified  16.3%  lc  54.27  (22.8s)\n"
          ]
        },
        {
          "output_type": "stream",
          "name": "stderr",
          "text": []
        },
        {
          "output_type": "stream",
          "name": "stdout",
          "text": [
            "epoch 25  clean  45.6%  verified  15.4%  lc  56.71  (22.7s)\n"
          ]
        },
        {
          "output_type": "stream",
          "name": "stderr",
          "text": []
        },
        {
          "output_type": "stream",
          "name": "stdout",
          "text": [
            "epoch 26  clean  45.7%  verified  15.3%  lc  56.92  (21.9s)\n"
          ]
        },
        {
          "output_type": "stream",
          "name": "stderr",
          "text": []
        },
        {
          "output_type": "stream",
          "name": "stdout",
          "text": [
            "epoch 27  clean  46.6%  verified  15.0%  lc  57.79  (24.1s)\n"
          ]
        },
        {
          "output_type": "stream",
          "name": "stderr",
          "text": []
        },
        {
          "output_type": "stream",
          "name": "stdout",
          "text": [
            "epoch 28  clean  47.5%  verified  13.8%  lc  58.63  (22.7s)\n"
          ]
        },
        {
          "output_type": "stream",
          "name": "stderr",
          "text": []
        },
        {
          "output_type": "stream",
          "name": "stdout",
          "text": [
            "epoch 29  clean  46.8%  verified  14.4%  lc  60.69  (22.6s)\n"
          ]
        },
        {
          "output_type": "stream",
          "name": "stderr",
          "text": []
        },
        {
          "output_type": "stream",
          "name": "stdout",
          "text": [
            "epoch 30  clean  46.9%  verified  14.8%  lc  58.83  (24.1s)\n"
          ]
        },
        {
          "output_type": "stream",
          "name": "stderr",
          "text": []
        },
        {
          "output_type": "stream",
          "name": "stdout",
          "text": [
            "epoch 31  clean  47.0%  verified  13.7%  lc  58.31  (23.7s)\n"
          ]
        },
        {
          "output_type": "stream",
          "name": "stderr",
          "text": []
        },
        {
          "output_type": "stream",
          "name": "stdout",
          "text": [
            "epoch 32  clean  48.0%  verified  13.8%  lc  61.17  (23.3s)\n"
          ]
        },
        {
          "output_type": "stream",
          "name": "stderr",
          "text": []
        },
        {
          "output_type": "stream",
          "name": "stdout",
          "text": [
            "epoch 33  clean  48.4%  verified  12.4%  lc  59.57  (23.6s)\n"
          ]
        },
        {
          "output_type": "stream",
          "name": "stderr",
          "text": []
        },
        {
          "output_type": "stream",
          "name": "stdout",
          "text": [
            "epoch 34  clean  47.7%  verified  13.7%  lc  64.67  (23.7s)\n"
          ]
        },
        {
          "output_type": "stream",
          "name": "stderr",
          "text": []
        },
        {
          "output_type": "stream",
          "name": "stdout",
          "text": [
            "epoch 35  clean  48.1%  verified  14.0%  lc  60.23  (24.3s)\n"
          ]
        },
        {
          "output_type": "stream",
          "name": "stderr",
          "text": []
        },
        {
          "output_type": "stream",
          "name": "stdout",
          "text": [
            "epoch 36  clean  47.7%  verified  13.5%  lc  62.49  (23.0s)\n"
          ]
        },
        {
          "output_type": "stream",
          "name": "stderr",
          "text": []
        },
        {
          "output_type": "stream",
          "name": "stdout",
          "text": [
            "epoch 37  clean  48.7%  verified  11.5%  lc  61.95  (23.1s)\n"
          ]
        },
        {
          "output_type": "stream",
          "name": "stderr",
          "text": []
        },
        {
          "output_type": "stream",
          "name": "stdout",
          "text": [
            "epoch 38  clean  48.8%  verified  12.2%  lc  62.35  (23.5s)\n"
          ]
        },
        {
          "output_type": "stream",
          "name": "stderr",
          "text": []
        },
        {
          "output_type": "stream",
          "name": "stdout",
          "text": [
            "epoch 39  clean  49.6%  verified  11.8%  lc  65.41  (22.3s)\n"
          ]
        },
        {
          "output_type": "stream",
          "name": "stderr",
          "text": []
        },
        {
          "output_type": "stream",
          "name": "stdout",
          "text": [
            "epoch 40  clean  49.4%  verified  11.7%  lc  64.02  (23.0s)\n"
          ]
        },
        {
          "output_type": "stream",
          "name": "stderr",
          "text": []
        },
        {
          "output_type": "stream",
          "name": "stdout",
          "text": [
            "epoch 41  clean  49.2%  verified  11.2%  lc  66.58  (23.3s)\n"
          ]
        },
        {
          "output_type": "stream",
          "name": "stderr",
          "text": []
        },
        {
          "output_type": "stream",
          "name": "stdout",
          "text": [
            "epoch 42  clean  50.2%  verified  11.5%  lc  62.73  (23.2s)\n"
          ]
        },
        {
          "output_type": "stream",
          "name": "stderr",
          "text": []
        },
        {
          "output_type": "stream",
          "name": "stdout",
          "text": [
            "epoch 43  clean  49.8%  verified  12.9%  lc  63.19  (24.0s)\n"
          ]
        },
        {
          "output_type": "stream",
          "name": "stderr",
          "text": []
        },
        {
          "output_type": "stream",
          "name": "stdout",
          "text": [
            "epoch 44  clean  49.2%  verified  13.8%  lc  63.12  (23.1s)\n"
          ]
        },
        {
          "output_type": "stream",
          "name": "stderr",
          "text": []
        },
        {
          "output_type": "stream",
          "name": "stdout",
          "text": [
            "epoch 45  clean  49.7%  verified  11.9%  lc  64.73  (22.4s)\n"
          ]
        },
        {
          "output_type": "stream",
          "name": "stderr",
          "text": []
        },
        {
          "output_type": "stream",
          "name": "stdout",
          "text": [
            "epoch 46  clean  50.3%  verified  12.2%  lc  63.62  (22.9s)\n"
          ]
        },
        {
          "output_type": "stream",
          "name": "stderr",
          "text": []
        },
        {
          "output_type": "stream",
          "name": "stdout",
          "text": [
            "epoch 47  clean  50.9%  verified  11.2%  lc  64.97  (22.7s)\n"
          ]
        },
        {
          "output_type": "stream",
          "name": "stderr",
          "text": []
        },
        {
          "output_type": "stream",
          "name": "stdout",
          "text": [
            "epoch 48  clean  51.4%  verified  11.6%  lc  64.31  (22.5s)\n"
          ]
        },
        {
          "output_type": "stream",
          "name": "stderr",
          "text": []
        },
        {
          "output_type": "stream",
          "name": "stdout",
          "text": [
            "epoch 49  clean  51.4%  verified  12.3%  lc  64.21  (22.4s)\n"
          ]
        },
        {
          "output_type": "stream",
          "name": "stderr",
          "text": []
        },
        {
          "output_type": "stream",
          "name": "stdout",
          "text": [
            "epoch 50  clean  51.7%  verified  10.7%  lc  63.90  (22.4s)\n"
          ]
        },
        {
          "output_type": "stream",
          "name": "stderr",
          "text": []
        },
        {
          "output_type": "stream",
          "name": "stdout",
          "text": [
            "epoch 51  clean  52.0%  verified  11.4%  lc  64.23  (23.7s)\n"
          ]
        },
        {
          "output_type": "stream",
          "name": "stderr",
          "text": []
        },
        {
          "output_type": "stream",
          "name": "stdout",
          "text": [
            "epoch 52  clean  51.8%  verified  12.6%  lc  63.97  (22.7s)\n"
          ]
        },
        {
          "output_type": "stream",
          "name": "stderr",
          "text": []
        },
        {
          "output_type": "stream",
          "name": "stdout",
          "text": [
            "epoch 53  clean  52.1%  verified  11.1%  lc  65.81  (22.4s)\n"
          ]
        },
        {
          "output_type": "stream",
          "name": "stderr",
          "text": []
        },
        {
          "output_type": "stream",
          "name": "stdout",
          "text": [
            "epoch 54  clean  52.4%  verified  11.0%  lc  65.01  (22.6s)\n"
          ]
        },
        {
          "output_type": "stream",
          "name": "stderr",
          "text": []
        },
        {
          "output_type": "stream",
          "name": "stdout",
          "text": [
            "epoch 55  clean  53.2%  verified  10.9%  lc  64.85  (22.3s)\n"
          ]
        },
        {
          "output_type": "stream",
          "name": "stderr",
          "text": []
        },
        {
          "output_type": "stream",
          "name": "stdout",
          "text": [
            "epoch 56  clean  52.7%  verified  12.3%  lc  65.79  (24.1s)\n"
          ]
        },
        {
          "output_type": "stream",
          "name": "stderr",
          "text": []
        },
        {
          "output_type": "stream",
          "name": "stdout",
          "text": [
            "epoch 57  clean  53.2%  verified  11.4%  lc  64.53  (23.0s)\n"
          ]
        },
        {
          "output_type": "stream",
          "name": "stderr",
          "text": []
        },
        {
          "output_type": "stream",
          "name": "stdout",
          "text": [
            "epoch 58  clean  53.6%  verified  10.9%  lc  64.35  (23.1s)\n"
          ]
        },
        {
          "output_type": "stream",
          "name": "stderr",
          "text": []
        },
        {
          "output_type": "stream",
          "name": "stdout",
          "text": [
            "epoch 59  clean  53.7%  verified  10.9%  lc  65.99  (22.6s)\n"
          ]
        },
        {
          "output_type": "stream",
          "name": "stderr",
          "text": []
        },
        {
          "output_type": "stream",
          "name": "stdout",
          "text": [
            "epoch 60  clean  53.6%  verified  10.3%  lc  64.91  (23.4s)\n"
          ]
        },
        {
          "output_type": "stream",
          "name": "stderr",
          "text": []
        },
        {
          "output_type": "stream",
          "name": "stdout",
          "text": [
            "epoch 61  clean  54.0%  verified  10.8%  lc  67.12  (21.4s)\n"
          ]
        },
        {
          "output_type": "stream",
          "name": "stderr",
          "text": []
        },
        {
          "output_type": "stream",
          "name": "stdout",
          "text": [
            "epoch 62  clean  53.9%  verified  10.6%  lc  63.55  (22.3s)\n"
          ]
        },
        {
          "output_type": "stream",
          "name": "stderr",
          "text": []
        },
        {
          "output_type": "stream",
          "name": "stdout",
          "text": [
            "epoch 63  clean  54.4%  verified  10.8%  lc  64.48  (22.4s)\n"
          ]
        },
        {
          "output_type": "stream",
          "name": "stderr",
          "text": []
        },
        {
          "output_type": "stream",
          "name": "stdout",
          "text": [
            "epoch 64  clean  53.9%  verified  10.1%  lc  65.10  (22.9s)\n"
          ]
        },
        {
          "output_type": "stream",
          "name": "stderr",
          "text": []
        },
        {
          "output_type": "stream",
          "name": "stdout",
          "text": [
            "epoch 65  clean  54.5%  verified  11.4%  lc  65.49  (22.6s)\n"
          ]
        },
        {
          "output_type": "stream",
          "name": "stderr",
          "text": []
        },
        {
          "output_type": "stream",
          "name": "stdout",
          "text": [
            "epoch 66  clean  54.9%  verified  10.8%  lc  65.78  (22.4s)\n"
          ]
        },
        {
          "output_type": "stream",
          "name": "stderr",
          "text": []
        },
        {
          "output_type": "stream",
          "name": "stdout",
          "text": [
            "epoch 67  clean  53.8%  verified  11.9%  lc  65.34  (22.8s)\n"
          ]
        },
        {
          "output_type": "stream",
          "name": "stderr",
          "text": []
        },
        {
          "output_type": "stream",
          "name": "stdout",
          "text": [
            "epoch 68  clean  55.0%  verified  10.9%  lc  65.22  (23.7s)\n"
          ]
        },
        {
          "output_type": "stream",
          "name": "stderr",
          "text": []
        },
        {
          "output_type": "stream",
          "name": "stdout",
          "text": [
            "epoch 69  clean  55.1%  verified  11.2%  lc  64.88  (22.3s)\n"
          ]
        },
        {
          "output_type": "stream",
          "name": "stderr",
          "text": []
        },
        {
          "output_type": "stream",
          "name": "stdout",
          "text": [
            "epoch 70  clean  55.0%  verified  10.7%  lc  64.97  (22.0s)\n"
          ]
        },
        {
          "output_type": "stream",
          "name": "stderr",
          "text": []
        },
        {
          "output_type": "stream",
          "name": "stdout",
          "text": [
            "epoch 71  clean  55.2%  verified  10.4%  lc  64.83  (21.4s)\n"
          ]
        },
        {
          "output_type": "stream",
          "name": "stderr",
          "text": []
        },
        {
          "output_type": "stream",
          "name": "stdout",
          "text": [
            "epoch 72  clean  56.0%  verified  10.1%  lc  64.65  (21.9s)\n"
          ]
        },
        {
          "output_type": "stream",
          "name": "stderr",
          "text": []
        },
        {
          "output_type": "stream",
          "name": "stdout",
          "text": [
            "epoch 73  clean  55.5%  verified  11.0%  lc  66.19  (22.3s)\n"
          ]
        },
        {
          "output_type": "stream",
          "name": "stderr",
          "text": []
        },
        {
          "output_type": "stream",
          "name": "stdout",
          "text": [
            "epoch 74  clean  55.0%  verified  11.3%  lc  65.63  (22.0s)\n"
          ]
        },
        {
          "output_type": "stream",
          "name": "stderr",
          "text": []
        },
        {
          "output_type": "stream",
          "name": "stdout",
          "text": [
            "epoch 75  clean  55.6%  verified  10.5%  lc  63.90  (22.0s)\n"
          ]
        },
        {
          "output_type": "stream",
          "name": "stderr",
          "text": []
        },
        {
          "output_type": "stream",
          "name": "stdout",
          "text": [
            "epoch 76  clean  55.9%  verified  10.3%  lc  65.04  (23.4s)\n"
          ]
        },
        {
          "output_type": "stream",
          "name": "stderr",
          "text": []
        },
        {
          "output_type": "stream",
          "name": "stdout",
          "text": [
            "epoch 77  clean  55.8%  verified  10.4%  lc  64.88  (22.8s)\n"
          ]
        },
        {
          "output_type": "stream",
          "name": "stderr",
          "text": []
        },
        {
          "output_type": "stream",
          "name": "stdout",
          "text": [
            "epoch 78  clean  55.9%  verified  11.0%  lc  64.80  (22.3s)\n"
          ]
        },
        {
          "output_type": "stream",
          "name": "stderr",
          "text": []
        },
        {
          "output_type": "stream",
          "name": "stdout",
          "text": [
            "epoch 79  clean  56.0%  verified  10.6%  lc  64.91  (21.7s)\n"
          ]
        },
        {
          "output_type": "stream",
          "name": "stderr",
          "text": []
        },
        {
          "output_type": "stream",
          "name": "stdout",
          "text": [
            "epoch 80  clean  56.2%  verified  10.3%  lc  65.47  (22.2s)\n"
          ]
        },
        {
          "output_type": "stream",
          "name": "stderr",
          "text": []
        },
        {
          "output_type": "stream",
          "name": "stdout",
          "text": [
            "epoch 81  clean  56.1%  verified  10.3%  lc  65.07  (23.6s)\n"
          ]
        },
        {
          "output_type": "stream",
          "name": "stderr",
          "text": []
        },
        {
          "output_type": "stream",
          "name": "stdout",
          "text": [
            "epoch 82  clean  56.1%  verified  10.5%  lc  64.45  (23.8s)\n"
          ]
        },
        {
          "output_type": "stream",
          "name": "stderr",
          "text": []
        },
        {
          "output_type": "stream",
          "name": "stdout",
          "text": [
            "epoch 83  clean  56.2%  verified  10.6%  lc  64.27  (23.7s)\n"
          ]
        },
        {
          "output_type": "stream",
          "name": "stderr",
          "text": []
        },
        {
          "output_type": "stream",
          "name": "stdout",
          "text": [
            "epoch 84  clean  56.1%  verified  10.7%  lc  64.50  (24.4s)\n"
          ]
        },
        {
          "output_type": "stream",
          "name": "stderr",
          "text": []
        },
        {
          "output_type": "stream",
          "name": "stdout",
          "text": [
            "epoch 85  clean  56.4%  verified  10.6%  lc  64.43  (22.9s)\n"
          ]
        },
        {
          "output_type": "stream",
          "name": "stderr",
          "text": []
        },
        {
          "output_type": "stream",
          "name": "stdout",
          "text": [
            "epoch 86  clean  56.4%  verified  10.4%  lc  64.41  (22.3s)\n"
          ]
        },
        {
          "output_type": "stream",
          "name": "stderr",
          "text": []
        },
        {
          "output_type": "stream",
          "name": "stdout",
          "text": [
            "epoch 87  clean  56.3%  verified  10.7%  lc  64.46  (22.4s)\n"
          ]
        },
        {
          "output_type": "stream",
          "name": "stderr",
          "text": []
        },
        {
          "output_type": "stream",
          "name": "stdout",
          "text": [
            "epoch 88  clean  56.4%  verified  10.8%  lc  64.29  (22.5s)\n"
          ]
        },
        {
          "output_type": "stream",
          "name": "stderr",
          "text": []
        },
        {
          "output_type": "stream",
          "name": "stdout",
          "text": [
            "epoch 89  clean  56.6%  verified  10.6%  lc  64.53  (22.4s)\n"
          ]
        },
        {
          "output_type": "stream",
          "name": "stderr",
          "text": []
        },
        {
          "output_type": "stream",
          "name": "stdout",
          "text": [
            "epoch 90  clean  56.3%  verified  10.6%  lc  63.96  (21.7s)\n"
          ]
        },
        {
          "output_type": "stream",
          "name": "stderr",
          "text": []
        },
        {
          "output_type": "stream",
          "name": "stdout",
          "text": [
            "epoch 91  clean  56.5%  verified  10.7%  lc  64.36  (22.6s)\n"
          ]
        },
        {
          "output_type": "stream",
          "name": "stderr",
          "text": []
        },
        {
          "output_type": "stream",
          "name": "stdout",
          "text": [
            "epoch 92  clean  56.4%  verified  10.7%  lc  64.21  (23.6s)\n"
          ]
        },
        {
          "output_type": "stream",
          "name": "stderr",
          "text": []
        },
        {
          "output_type": "stream",
          "name": "stdout",
          "text": [
            "epoch 93  clean  56.4%  verified  10.7%  lc  64.14  (22.6s)\n"
          ]
        },
        {
          "output_type": "stream",
          "name": "stderr",
          "text": []
        },
        {
          "output_type": "stream",
          "name": "stdout",
          "text": [
            "epoch 94  clean  56.6%  verified  10.7%  lc  63.98  (22.6s)\n"
          ]
        },
        {
          "output_type": "stream",
          "name": "stderr",
          "text": []
        },
        {
          "output_type": "stream",
          "name": "stdout",
          "text": [
            "epoch 95  clean  56.4%  verified  10.7%  lc  63.77  (21.9s)\n"
          ]
        },
        {
          "output_type": "stream",
          "name": "stderr",
          "text": []
        },
        {
          "output_type": "stream",
          "name": "stdout",
          "text": [
            "epoch 96  clean  56.6%  verified  10.7%  lc  63.75  (22.6s)\n"
          ]
        },
        {
          "output_type": "stream",
          "name": "stderr",
          "text": []
        },
        {
          "output_type": "stream",
          "name": "stdout",
          "text": [
            "epoch 97  clean  56.6%  verified  10.7%  lc  63.74  (22.5s)\n"
          ]
        },
        {
          "output_type": "stream",
          "name": "stderr",
          "text": []
        },
        {
          "output_type": "stream",
          "name": "stdout",
          "text": [
            "epoch 98  clean  56.6%  verified  10.7%  lc  63.60  (22.5s)\n"
          ]
        },
        {
          "output_type": "stream",
          "name": "stderr",
          "text": []
        },
        {
          "output_type": "stream",
          "name": "stdout",
          "text": [
            "epoch 99  clean  56.6%  verified  10.7%  lc  63.54  (22.0s)\n",
            "Saved lipshift_emma.pt\n"
          ]
        }
      ]
    },
    {
      "cell_type": "code",
      "source": [
        "from tqdm import tqdm\n",
        "import time, csv\n",
        "import matplotlib.pyplot as plt\n",
        "import torch, torchvision\n",
        "import torchvision.transforms as T\n",
        "from torch.utils.data import DataLoader\n",
        "\n",
        "def train():\n",
        "    device = torch.device('cpu')\n",
        "    transform = T.Compose([\n",
        "        T.ToTensor(),\n",
        "        T.Normalize((0.5, 0.5, 0.5), (0.5, 0.5, 0.5))\n",
        "    ])\n",
        "    trainset = torchvision.datasets.CIFAR10(root='./data', train=True,\n",
        "                                            download=True, transform=transform)\n",
        "    testset  = torchvision.datasets.CIFAR10(root='./data', train=False,\n",
        "                                            download=True, transform=transform)\n",
        "    train_loader = DataLoader(trainset, batch_size=128, shuffle=True, num_workers=2)\n",
        "    test_loader  = DataLoader(testset , batch_size=256, shuffle=False, num_workers=2)\n",
        "\n",
        "    model = LipShiftNet(dim=128, depth=6).to(device)\n",
        "    opt = torch.optim.AdamW(model.parameters(), lr=3e-4, weight_decay=5e-2)\n",
        "    sched = torch.optim.lr_scheduler.CosineAnnealingLR(opt, T_max=100)\n",
        "\n",
        "    # logs\n",
        "    train_losses, clean_accs, verified_accs, lcs = [], [], [], []\n",
        "\n",
        "    for epoch in range(40):\n",
        "        t0 = time.time()\n",
        "        model.train()\n",
        "        loop = tqdm(train_loader, desc=f\"Epoch {epoch+1}/40\", leave=False)\n",
        "\n",
        "        running_loss = 0.0\n",
        "        for i, (x, y) in enumerate(loop):\n",
        "            x, y = x.to(device), y.to(device)\n",
        "            opt.zero_grad()\n",
        "            lc = model.get_lc()\n",
        "            loss = emma_loss(model, x, y, lc, eps=8/255)\n",
        "            loss.backward()\n",
        "            opt.step()\n",
        "\n",
        "            running_loss += loss.item()\n",
        "            loop.set_postfix(loss=loss.item(), lc=f\"{lc:.2f}\")\n",
        "\n",
        "        sched.step()\n",
        "\n",
        "        # average loss for this epoch\n",
        "        avg_loss = running_loss / len(train_loader)\n",
        "        train_losses.append(avg_loss)\n",
        "\n",
        "        # evaluation\n",
        "        clean, ver, lc = evaluate(model, test_loader, device)\n",
        "        clean_accs.append(clean)\n",
        "        verified_accs.append(ver)\n",
        "        lcs.append(lc)\n",
        "\n",
        "        print(f'epoch {epoch:02d}  loss {avg_loss:.4f}  '\n",
        "              f'clean {clean*100:5.1f}%  verified {ver*100:5.1f}%  '\n",
        "              f'lc {lc:6.2f}  ({time.time()-t0:4.1f}s)')\n",
        "\n",
        "    # save logs to CSV\n",
        "    with open(\"lipshift_emma_metrics.csv\", \"w\", newline=\"\") as f:\n",
        "        writer = csv.writer(f)\n",
        "        writer.writerow([\"Epoch\", \"TrainLoss\", \"CleanAcc\", \"VerifiedAcc\", \"LipschitzConst\"])\n",
        "        for i in range(len(train_losses)):\n",
        "            writer.writerow([\n",
        "                i+1,\n",
        "                train_losses[i],\n",
        "                clean_accs[i]*100,\n",
        "                verified_accs[i]*100,\n",
        "                lcs[i]\n",
        "            ])\n",
        "\n",
        "    # plots\n",
        "    plt.plot(train_losses)\n",
        "    plt.title(\"Training Loss\")\n",
        "    plt.xlabel(\"Epoch\")\n",
        "    plt.ylabel(\"Loss\")\n",
        "    plt.show()\n",
        "\n",
        "    plt.plot([c*100 for c in clean_accs], label=\"Clean Acc\")\n",
        "    plt.plot([v*100 for v in verified_accs], label=\"Verified Acc\")\n",
        "    plt.title(\"Accuracy\")\n",
        "    plt.xlabel(\"Epoch\")\n",
        "    plt.ylabel(\"Accuracy (%)\")\n",
        "    plt.legend()\n",
        "    plt.show()\n",
        "\n",
        "    plt.plot(lcs)\n",
        "    plt.title(\"Lipschitz Constant\")\n",
        "    plt.xlabel(\"Epoch\")\n",
        "    plt.ylabel(\"LC\")\n",
        "    plt.show()\n",
        "\n",
        "    # save final model\n",
        "    torch.save(model.state_dict(), 'lipshift_emma-1.pt')\n",
        "    print('Saved lipshift_emma-1.pt')\n",
        "\n",
        "    return model, (train_losses, clean_accs, verified_accs, lcs)\n",
        "\n",
        "\n",
        "if __name__ == '__main__':\n",
        "    train()\n"
      ],
      "metadata": {
        "id": "oiWOnvrLP-_a",
        "colab": {
          "base_uri": "https://localhost:8080/",
          "height": 1000
        },
        "outputId": "8a899d06-b6f0-4e07-d4f7-84ada90779f4"
      },
      "execution_count": 21,
      "outputs": [
        {
          "output_type": "stream",
          "name": "stderr",
          "text": []
        },
        {
          "output_type": "stream",
          "name": "stdout",
          "text": [
            "epoch 00  loss 2.1290  clean  23.6%  verified  67.7%  lc   2.08  (174.3s)\n"
          ]
        },
        {
          "output_type": "stream",
          "name": "stderr",
          "text": []
        },
        {
          "output_type": "stream",
          "name": "stdout",
          "text": [
            "epoch 01  loss 2.0256  clean  26.1%  verified  63.5%  lc   3.26  (173.9s)\n"
          ]
        },
        {
          "output_type": "stream",
          "name": "stderr",
          "text": []
        },
        {
          "output_type": "stream",
          "name": "stdout",
          "text": [
            "epoch 02  loss 1.9717  clean  27.5%  verified  59.3%  lc   4.55  (173.1s)\n"
          ]
        },
        {
          "output_type": "stream",
          "name": "stderr",
          "text": []
        },
        {
          "output_type": "stream",
          "name": "stdout",
          "text": [
            "epoch 03  loss 1.9247  clean  27.4%  verified  57.6%  lc   5.84  (171.3s)\n"
          ]
        },
        {
          "output_type": "stream",
          "name": "stderr",
          "text": []
        },
        {
          "output_type": "stream",
          "name": "stdout",
          "text": [
            "epoch 04  loss 1.8581  clean  30.5%  verified  51.7%  lc   8.29  (168.7s)\n"
          ]
        },
        {
          "output_type": "stream",
          "name": "stderr",
          "text": []
        },
        {
          "output_type": "stream",
          "name": "stdout",
          "text": [
            "epoch 05  loss 1.7865  clean  31.6%  verified  46.3%  lc  11.03  (171.3s)\n"
          ]
        },
        {
          "output_type": "stream",
          "name": "stderr",
          "text": []
        },
        {
          "output_type": "stream",
          "name": "stdout",
          "text": [
            "epoch 06  loss 1.7111  clean  32.3%  verified  42.0%  lc  14.87  (173.5s)\n"
          ]
        },
        {
          "output_type": "stream",
          "name": "stderr",
          "text": []
        },
        {
          "output_type": "stream",
          "name": "stdout",
          "text": [
            "epoch 07  loss 1.6391  clean  34.3%  verified  37.9%  lc  17.99  (171.4s)\n"
          ]
        },
        {
          "output_type": "stream",
          "name": "stderr",
          "text": []
        },
        {
          "output_type": "stream",
          "name": "stdout",
          "text": [
            "epoch 08  loss 1.5824  clean  36.4%  verified  34.0%  lc  20.63  (171.5s)\n"
          ]
        },
        {
          "output_type": "stream",
          "name": "stderr",
          "text": []
        },
        {
          "output_type": "stream",
          "name": "stdout",
          "text": [
            "epoch 09  loss 1.5370  clean  36.8%  verified  30.9%  lc  23.92  (172.2s)\n"
          ]
        },
        {
          "output_type": "stream",
          "name": "stderr",
          "text": []
        },
        {
          "output_type": "stream",
          "name": "stdout",
          "text": [
            "epoch 10  loss 1.4974  clean  38.1%  verified  29.0%  lc  27.46  (170.9s)\n"
          ]
        },
        {
          "output_type": "stream",
          "name": "stderr",
          "text": []
        },
        {
          "output_type": "stream",
          "name": "stdout",
          "text": [
            "epoch 11  loss 1.4608  clean  38.2%  verified  28.8%  lc  28.41  (170.4s)\n"
          ]
        },
        {
          "output_type": "stream",
          "name": "stderr",
          "text": []
        },
        {
          "output_type": "stream",
          "name": "stdout",
          "text": [
            "epoch 12  loss 1.4282  clean  38.6%  verified  26.1%  lc  30.54  (172.1s)\n"
          ]
        },
        {
          "output_type": "stream",
          "name": "stderr",
          "text": []
        },
        {
          "output_type": "stream",
          "name": "stdout",
          "text": [
            "epoch 13  loss 1.3957  clean  40.4%  verified  26.6%  lc  33.08  (172.7s)\n"
          ]
        },
        {
          "output_type": "stream",
          "name": "stderr",
          "text": []
        },
        {
          "output_type": "stream",
          "name": "stdout",
          "text": [
            "epoch 14  loss 1.3618  clean  40.8%  verified  21.5%  lc  37.84  (172.0s)\n"
          ]
        },
        {
          "output_type": "stream",
          "name": "stderr",
          "text": []
        },
        {
          "output_type": "stream",
          "name": "stdout",
          "text": [
            "epoch 15  loss 1.3362  clean  41.8%  verified  21.6%  lc  39.95  (170.4s)\n"
          ]
        },
        {
          "output_type": "stream",
          "name": "stderr",
          "text": []
        },
        {
          "output_type": "stream",
          "name": "stdout",
          "text": [
            "epoch 16  loss 1.3065  clean  41.2%  verified  19.8%  lc  41.06  (171.7s)\n"
          ]
        },
        {
          "output_type": "stream",
          "name": "stderr",
          "text": []
        },
        {
          "output_type": "stream",
          "name": "stdout",
          "text": [
            "epoch 17  loss 1.2845  clean  43.0%  verified  20.1%  lc  44.44  (171.8s)\n"
          ]
        },
        {
          "output_type": "stream",
          "name": "stderr",
          "text": []
        },
        {
          "output_type": "stream",
          "name": "stdout",
          "text": [
            "epoch 18  loss 1.2603  clean  42.9%  verified  18.4%  lc  45.25  (169.6s)\n"
          ]
        },
        {
          "output_type": "stream",
          "name": "stderr",
          "text": []
        },
        {
          "output_type": "stream",
          "name": "stdout",
          "text": [
            "epoch 19  loss 1.2395  clean  44.0%  verified  16.3%  lc  47.23  (173.4s)\n"
          ]
        },
        {
          "output_type": "stream",
          "name": "stderr",
          "text": []
        },
        {
          "output_type": "stream",
          "name": "stdout",
          "text": [
            "epoch 20  loss 1.2211  clean  44.0%  verified  16.8%  lc  49.60  (173.7s)\n"
          ]
        },
        {
          "output_type": "stream",
          "name": "stderr",
          "text": []
        },
        {
          "output_type": "stream",
          "name": "stdout",
          "text": [
            "epoch 21  loss 1.2039  clean  44.2%  verified  17.3%  lc  51.13  (171.0s)\n"
          ]
        },
        {
          "output_type": "stream",
          "name": "stderr",
          "text": []
        },
        {
          "output_type": "stream",
          "name": "stdout",
          "text": [
            "epoch 22  loss 1.1929  clean  45.2%  verified  15.8%  lc  51.72  (170.4s)\n"
          ]
        },
        {
          "output_type": "stream",
          "name": "stderr",
          "text": []
        },
        {
          "output_type": "stream",
          "name": "stdout",
          "text": [
            "epoch 23  loss 1.1783  clean  46.0%  verified  16.0%  lc  55.43  (170.7s)\n"
          ]
        },
        {
          "output_type": "stream",
          "name": "stderr",
          "text": []
        },
        {
          "output_type": "stream",
          "name": "stdout",
          "text": [
            "epoch 24  loss 1.1650  clean  44.2%  verified  15.3%  lc  55.25  (183.3s)\n"
          ]
        },
        {
          "output_type": "stream",
          "name": "stderr",
          "text": []
        },
        {
          "output_type": "stream",
          "name": "stdout",
          "text": [
            "epoch 25  loss 1.1544  clean  45.7%  verified  14.7%  lc  53.94  (212.2s)\n"
          ]
        },
        {
          "output_type": "stream",
          "name": "stderr",
          "text": []
        },
        {
          "output_type": "stream",
          "name": "stdout",
          "text": [
            "epoch 26  loss 1.1441  clean  46.7%  verified  14.3%  lc  57.63  (206.9s)\n"
          ]
        },
        {
          "output_type": "stream",
          "name": "stderr",
          "text": []
        },
        {
          "output_type": "stream",
          "name": "stdout",
          "text": [
            "epoch 27  loss 1.1339  clean  45.8%  verified  15.4%  lc  55.65  (180.0s)\n"
          ]
        },
        {
          "output_type": "stream",
          "name": "stderr",
          "text": []
        },
        {
          "output_type": "stream",
          "name": "stdout",
          "text": [
            "epoch 28  loss 1.1251  clean  46.9%  verified  12.6%  lc  60.79  (172.7s)\n"
          ]
        },
        {
          "output_type": "stream",
          "name": "stderr",
          "text": []
        },
        {
          "output_type": "stream",
          "name": "stdout",
          "text": [
            "epoch 29  loss 1.1170  clean  47.3%  verified  13.7%  lc  59.22  (172.5s)\n"
          ]
        },
        {
          "output_type": "stream",
          "name": "stderr",
          "text": []
        },
        {
          "output_type": "stream",
          "name": "stdout",
          "text": [
            "epoch 30  loss 1.1088  clean  46.9%  verified  14.9%  lc  59.70  (171.9s)\n"
          ]
        },
        {
          "output_type": "stream",
          "name": "stderr",
          "text": []
        },
        {
          "output_type": "stream",
          "name": "stdout",
          "text": [
            "epoch 31  loss 1.1017  clean  47.2%  verified  15.3%  lc  61.32  (171.9s)\n"
          ]
        },
        {
          "output_type": "stream",
          "name": "stderr",
          "text": []
        },
        {
          "output_type": "stream",
          "name": "stdout",
          "text": [
            "epoch 32  loss 1.0939  clean  47.6%  verified  14.6%  lc  59.92  (173.0s)\n"
          ]
        },
        {
          "output_type": "stream",
          "name": "stderr",
          "text": []
        },
        {
          "output_type": "stream",
          "name": "stdout",
          "text": [
            "epoch 33  loss 1.0860  clean  47.7%  verified  13.1%  lc  62.69  (172.4s)\n"
          ]
        },
        {
          "output_type": "stream",
          "name": "stderr",
          "text": []
        },
        {
          "output_type": "stream",
          "name": "stdout",
          "text": [
            "epoch 34  loss 1.0793  clean  48.6%  verified  12.3%  lc  61.63  (172.4s)\n"
          ]
        },
        {
          "output_type": "stream",
          "name": "stderr",
          "text": []
        },
        {
          "output_type": "stream",
          "name": "stdout",
          "text": [
            "epoch 35  loss 1.0716  clean  48.8%  verified  11.7%  lc  61.11  (172.8s)\n"
          ]
        },
        {
          "output_type": "stream",
          "name": "stderr",
          "text": []
        },
        {
          "output_type": "stream",
          "name": "stdout",
          "text": [
            "epoch 36  loss 1.0630  clean  49.0%  verified  12.4%  lc  63.07  (170.8s)\n"
          ]
        },
        {
          "output_type": "stream",
          "name": "stderr",
          "text": []
        },
        {
          "output_type": "stream",
          "name": "stdout",
          "text": [
            "epoch 37  loss 1.0568  clean  48.8%  verified  12.4%  lc  61.92  (172.6s)\n"
          ]
        },
        {
          "output_type": "stream",
          "name": "stderr",
          "text": []
        },
        {
          "output_type": "stream",
          "name": "stdout",
          "text": [
            "epoch 38  loss 1.0485  clean  47.3%  verified  14.2%  lc  62.28  (170.8s)\n"
          ]
        },
        {
          "output_type": "stream",
          "name": "stderr",
          "text": []
        },
        {
          "output_type": "stream",
          "name": "stdout",
          "text": [
            "epoch 39  loss 1.0413  clean  49.6%  verified  12.7%  lc  63.08  (169.8s)\n"
          ]
        },
        {
          "output_type": "display_data",
          "data": {
            "text/plain": [
              "<Figure size 640x480 with 1 Axes>"
            ],
            "image/png": "[encoded data removed]"
          },
          "metadata": {}
        },
        {
          "output_type": "display_data",
          "data": {
            "text/plain": [
              "<Figure size 640x480 with 1 Axes>"
            ],
            "image/png": "[encoded data removed]"
          },
          "metadata": {}
        },
        {
          "output_type": "display_data",
          "data": {
            "text/plain": [
              "<Figure size 640x480 with 1 Axes>"
            ],
            "image/png": "[encoded data removed]"
          },
          "metadata": {}
        },
        {
          "output_type": "stream",
          "name": "stdout",
          "text": [
            "Saved lipshift_emma-1.pt\n"
          ]
        }
      ]
    },
    {
      "cell_type": "code",
      "source": [],
      "metadata": {
        "id": "x_bscvyz7ciU"
      },
      "execution_count": null,
      "outputs": []
    }
  ]
}