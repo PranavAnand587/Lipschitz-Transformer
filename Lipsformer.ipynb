{
  "nbformat": 4,
  "nbformat_minor": 0,
  "metadata": {
    "colab": {
      "provenance": [],
      "gpuType": "T4",
      "authorship_tag": "ABX9TyNguQzcXeL1y4LFgNbZS3b2",
      "include_colab_link": true
    },
    "kernelspec": {
      "name": "python3",
      "display_name": "Python 3"
    },
    "language_info": {
      "name": "python"
    },
    "accelerator": "GPU"
  },
  "cells": [
    {
      "cell_type": "markdown",
      "metadata": {
        "id": "view-in-github",
        "colab_type": "text"
      },
      "source": [
        "<a href=\"https://colab.research.google.com/github/PranavAnand587/Lipschitz-Transformer/blob/main/Lipsformer.ipynb\" target=\"_parent\"><img src=\"https://colab.research.google.com/assets/colab-badge.svg\" alt=\"Open In Colab\"/></a>"
      ]
    },
    {
      "cell_type": "code",
      "source": [
        "#!/usr/bin/env python3\n",
        "\"\"\"\n",
        "Provably 1-Lipschitz LipsFormer for CIFAR-10\n",
        "Refactored with MinMax, tanh residuals, per-head temperature attention,\n",
        "tight Lipschitz constant tracking, and EMMA loss.\n",
        "\"\"\"\n",
        "import torch\n",
        "import torch.nn as nn\n",
        "import torch.nn.functional as F\n",
        "from torch.nn.utils import spectral_norm\n",
        "import torchvision\n",
        "import torchvision.transforms as transforms\n",
        "from torch.utils.data import DataLoader\n",
        "import time\n",
        "\n",
        "# ---------- 1. 1-Lipschitz modules --------------------------------------\n",
        "\n",
        "class MinMax(nn.Module):\n",
        "    \"\"\"1-Lip bounded activation\"\"\"\n",
        "    def forward(self, x):\n",
        "        return x.clamp(-1, 1)\n",
        "\n",
        "class CenterNorm(nn.Module):\n",
        "    \"\"\"Lipschitz-continuous normalization\"\"\"\n",
        "    def __init__(self, num_features, eps=1e-6):\n",
        "        super().__init__()\n",
        "        self.eps = eps\n",
        "        self.weight = nn.Parameter(torch.ones(num_features))\n",
        "        self.bias = nn.Parameter(torch.zeros(num_features))\n",
        "    def forward(self, x):\n",
        "        mean = x.mean(dim=-1, keepdim=True) if x.dim()==3 else x.mean(dim=1, keepdim=True)\n",
        "        x_centered = x - mean\n",
        "        return self.weight * x_centered + self.bias\n",
        "\n",
        "class ScaledCosineAttention(nn.Module):\n",
        "    \"\"\"Per-head scaled cosine attention with bounded temperatures\"\"\"\n",
        "    def __init__(self, dim, heads=4, dropout=0.1):\n",
        "        super().__init__()\n",
        "        assert dim % heads == 0\n",
        "        self.heads = heads\n",
        "        self.head_dim = dim // heads\n",
        "        self.qkv = spectral_norm(nn.Linear(dim, 3*dim, bias=False))\n",
        "        self.proj = spectral_norm(nn.Linear(dim, dim))\n",
        "        self.drop = nn.Dropout(dropout)\n",
        "        # per-head learnable temperature in (0,1)\n",
        "        self.tau = nn.Parameter(torch.ones(heads) * 0.2)\n",
        "\n",
        "    def forward(self, x):\n",
        "        B, N, C = x.shape\n",
        "        qkv = self.qkv(x).reshape(B, N, 3, self.heads, self.head_dim).permute(2,0,3,1,4)\n",
        "        q, k, v = qkv.unbind(0)\n",
        "        q = F.normalize(q, dim=-1, eps=1e-8)\n",
        "        k = F.normalize(k, dim=-1, eps=1e-8)\n",
        "        attn = torch.einsum('bhid,bhjd->bhij', q, k)\n",
        "        tau = torch.sigmoid(self.tau).view(1, self.heads, 1, 1)\n",
        "        attn = attn * tau\n",
        "        attn = F.softmax(attn, dim=-1)\n",
        "        attn = self.drop(attn)\n",
        "        out = torch.einsum('bhij,bhjd->bhid', attn, v)\n",
        "        out = out.transpose(1,2).reshape(B, N, C)\n",
        "        return self.proj(out)\n",
        "\n",
        "class LipschitzMLP(nn.Module):\n",
        "    \"\"\"MLP with 1-Lip activations and spectral norm\"\"\"\n",
        "    def __init__(self, dim, mlp_ratio=4.0, dropout=0.1):\n",
        "        super().__init__()\n",
        "        hidden_dim = int(dim*mlp_ratio)\n",
        "        self.fc1 = spectral_norm(nn.Linear(dim, hidden_dim))\n",
        "        self.fc2 = spectral_norm(nn.Linear(hidden_dim, dim))\n",
        "        self.act = MinMax()\n",
        "        self.drop = nn.Dropout(dropout)\n",
        "    def forward(self, x):\n",
        "        x = self.drop(self.act(self.fc1(x)))\n",
        "        x = self.drop(self.fc2(x))\n",
        "        return x\n",
        "\n",
        "class WeightedResidual(nn.Module):\n",
        "    \"\"\"Residual with tanh scalar to keep 1-Lip\"\"\"\n",
        "    def __init__(self):\n",
        "        super().__init__()\n",
        "        self.alpha = nn.Parameter(torch.zeros(1))\n",
        "    def forward(self, x, residual):\n",
        "        return residual + torch.tanh(self.alpha) * x\n",
        "\n",
        "class LipsFormerBlock(nn.Module):\n",
        "    \"\"\"Single LipsFormer block\"\"\"\n",
        "    def __init__(self, dim, num_heads, mlp_ratio=4.0, dropout=0.1):\n",
        "        super().__init__()\n",
        "        self.norm1 = CenterNorm(dim)\n",
        "        self.attn = ScaledCosineAttention(dim, num_heads, dropout)\n",
        "        self.res1 = WeightedResidual()\n",
        "        self.norm2 = CenterNorm(dim)\n",
        "        self.mlp = LipschitzMLP(dim, mlp_ratio, dropout)\n",
        "        self.res2 = WeightedResidual()\n",
        "    def forward(self, x):\n",
        "        x = self.res1(self.attn(self.norm1(x)), x)\n",
        "        x = self.res2(self.mlp(self.norm2(x)), x)\n",
        "        return x\n",
        "\n",
        "# ---------- 2. LipsFormer Transformer ----------------------------------\n",
        "\n",
        "class LipsFormerTransformer(nn.Module):\n",
        "    def __init__(self, img_size=32, patch_size=4, in_ch=3, num_classes=10,\n",
        "                 embed_dim=128, depth=6, num_heads=4):\n",
        "        super().__init__()\n",
        "        self.patch_embed = spectral_norm(nn.Conv2d(in_ch, embed_dim, patch_size, patch_size))\n",
        "        self.pos_embed = nn.Parameter(torch.zeros(1, (img_size//patch_size)**2, embed_dim))\n",
        "        self.blocks = nn.ModuleList([LipsFormerBlock(embed_dim, num_heads) for _ in range(depth)])\n",
        "        self.norm = CenterNorm(embed_dim)\n",
        "        self.head = spectral_norm(nn.Linear(embed_dim, num_classes))\n",
        "        nn.init.trunc_normal_(self.pos_embed, std=0.02)\n",
        "\n",
        "    def forward(self, x):\n",
        "        B, C, H, W = x.shape\n",
        "        x = self.patch_embed(x).flatten(2).transpose(1,2)\n",
        "        x = x + self.pos_embed\n",
        "        for blk in self.blocks:\n",
        "            x = blk(x)\n",
        "        x = self.norm(x)\n",
        "        x = x.mean(dim=1)\n",
        "        return self.head(x)\n",
        "\n",
        "    @torch.no_grad()\n",
        "    def get_lc(self):\n",
        "        \"\"\"Exact Lipschitz constant\"\"\"\n",
        "        lc = torch.linalg.matrix_norm(self.patch_embed.weight.view(self.patch_embed.weight.size(0), -1), 2).item()\n",
        "        lc *= torch.linalg.matrix_norm(self.head.weight, 2).item()\n",
        "        for blk in self.blocks:\n",
        "            lc *= (1 + torch.tanh(blk.res1.alpha.abs()).item())\n",
        "            lc *= (1 + torch.tanh(blk.res2.alpha.abs()).item())\n",
        "        return lc\n",
        "\n",
        "# ---------- 3. EMMA loss ------------------------------------------------\n",
        "\n",
        "def emma_loss(model, x, y, eps=8/255):\n",
        "    logits = model(x)\n",
        "    lc = model.get_lc()\n",
        "    B, C = logits.shape\n",
        "    y_true = y.view(-1,1)\n",
        "    W = model.head.weight\n",
        "    W_y = W.gather(0, y_true.expand(-1, W.size(1)))\n",
        "    diff = W_y.unsqueeze(1) - W.unsqueeze(0)\n",
        "    margin = lc * diff.norm(p=2, dim=-1)\n",
        "    logits_centered = logits - logits.gather(1, y_true)\n",
        "    eps_ji_raw = -(logits_centered / (margin * eps + 1e-8))\n",
        "    eps_ji = eps_ji_raw.clamp(0.01,1).detach()\n",
        "    logits_rob = logits + eps_ji * eps * margin\n",
        "    return F.cross_entropy(logits_rob, y)"
      ],
      "metadata": {
        "id": "H-UDVBrJ8S9B"
      },
      "execution_count": 1,
      "outputs": []
    },
    {
      "cell_type": "code",
      "execution_count": 6,
      "metadata": {
        "colab": {
          "base_uri": "https://localhost:8080/"
        },
        "id": "wJ9XziC9WQP5",
        "outputId": "fe34a5bb-7615-4983-ceae-bf2a1d4a0ed6"
      },
      "outputs": [
        {
          "metadata": {
            "tags": null
          },
          "name": "stderr",
          "output_type": "stream",
          "text": [
            "Epoch 1 [Train]: 100%|██████████| 391/391 [00:33<00:00, 11.65it/s, loss=2.13]\n",
            "Epoch 1 [Eval]: 100%|██████████| 79/79 [00:02<00:00, 28.40it/s, acc=24.1, cert_acc=18.2]\n"
          ]
        },
        {
          "metadata": {
            "tags": null
          },
          "name": "stdout",
          "output_type": "stream",
          "text": [
            "Epoch 1: EMMA train loss 2.1332 | Acc 24.06% | Certified 18.22%\n"
          ]
        },
        {
          "metadata": {
            "tags": null
          },
          "name": "stderr",
          "output_type": "stream",
          "text": [
            "Epoch 2 [Train]: 100%|██████████| 391/391 [00:31<00:00, 12.32it/s, loss=2.05]\n",
            "Epoch 2 [Eval]: 100%|██████████| 79/79 [00:03<00:00, 22.23it/s, acc=26.3, cert_acc=18]\n"
          ]
        },
        {
          "metadata": {
            "tags": null
          },
          "name": "stdout",
          "output_type": "stream",
          "text": [
            "Epoch 2: EMMA train loss 2.0462 | Acc 26.27% | Certified 18.02%\n"
          ]
        },
        {
          "metadata": {
            "tags": null
          },
          "name": "stderr",
          "output_type": "stream",
          "text": [
            "Epoch 3 [Train]: 100%|██████████| 391/391 [00:31<00:00, 12.27it/s, loss=2]\n",
            "Epoch 3 [Eval]: 100%|██████████| 79/79 [00:03<00:00, 25.52it/s, acc=28.9, cert_acc=18.4]\n"
          ]
        },
        {
          "metadata": {
            "tags": null
          },
          "name": "stdout",
          "output_type": "stream",
          "text": [
            "Epoch 3: EMMA train loss 1.9957 | Acc 28.86% | Certified 18.41%\n"
          ]
        },
        {
          "metadata": {
            "tags": null
          },
          "name": "stderr",
          "output_type": "stream",
          "text": [
            "Epoch 4 [Train]: 100%|██████████| 391/391 [00:32<00:00, 12.07it/s, loss=1.94]\n",
            "Epoch 4 [Eval]: 100%|██████████| 79/79 [00:02<00:00, 28.63it/s, acc=30, cert_acc=18.3]\n"
          ]
        },
        {
          "metadata": {
            "tags": null
          },
          "name": "stdout",
          "output_type": "stream",
          "text": [
            "Epoch 4: EMMA train loss 1.9383 | Acc 30.02% | Certified 18.31%\n"
          ]
        },
        {
          "metadata": {
            "tags": null
          },
          "name": "stderr",
          "output_type": "stream",
          "text": [
            "Epoch 5 [Train]: 100%|██████████| 391/391 [00:32<00:00, 11.99it/s, loss=1.9]\n",
            "Epoch 5 [Eval]: 100%|██████████| 79/79 [00:02<00:00, 27.71it/s, acc=31.6, cert_acc=17.1]\n"
          ]
        },
        {
          "metadata": {
            "tags": null
          },
          "name": "stdout",
          "output_type": "stream",
          "text": [
            "Epoch 5: EMMA train loss 1.8996 | Acc 31.61% | Certified 17.10%\n"
          ]
        },
        {
          "metadata": {
            "tags": null
          },
          "name": "stderr",
          "output_type": "stream",
          "text": [
            "Epoch 6 [Train]: 100%|██████████| 391/391 [00:32<00:00, 11.93it/s, loss=1.87]\n",
            "Epoch 6 [Eval]: 100%|██████████| 79/79 [00:03<00:00, 24.71it/s, acc=32.5, cert_acc=16.8]\n"
          ]
        },
        {
          "metadata": {
            "tags": null
          },
          "name": "stdout",
          "output_type": "stream",
          "text": [
            "Epoch 6: EMMA train loss 1.8680 | Acc 32.45% | Certified 16.77%\n"
          ]
        },
        {
          "metadata": {
            "tags": null
          },
          "name": "stderr",
          "output_type": "stream",
          "text": [
            "Epoch 7 [Train]: 100%|██████████| 391/391 [00:32<00:00, 11.87it/s, loss=1.84]\n",
            "Epoch 7 [Eval]: 100%|██████████| 79/79 [00:03<00:00, 26.28it/s, acc=33.6, cert_acc=16]\n"
          ]
        },
        {
          "metadata": {
            "tags": null
          },
          "name": "stdout",
          "output_type": "stream",
          "text": [
            "Epoch 7: EMMA train loss 1.8374 | Acc 33.63% | Certified 16.00%\n"
          ]
        },
        {
          "metadata": {
            "tags": null
          },
          "name": "stderr",
          "output_type": "stream",
          "text": [
            "Epoch 8 [Train]: 100%|██████████| 391/391 [00:32<00:00, 12.15it/s, loss=1.82]\n",
            "Epoch 8 [Eval]: 100%|██████████| 79/79 [00:03<00:00, 21.60it/s, acc=33.5, cert_acc=14.2]\n"
          ]
        },
        {
          "metadata": {
            "tags": null
          },
          "name": "stdout",
          "output_type": "stream",
          "text": [
            "Epoch 8: EMMA train loss 1.8207 | Acc 33.54% | Certified 14.24%\n"
          ]
        },
        {
          "metadata": {
            "tags": null
          },
          "name": "stderr",
          "output_type": "stream",
          "text": [
            "Epoch 9 [Train]: 100%|██████████| 391/391 [00:31<00:00, 12.28it/s, loss=1.8]\n",
            "Epoch 9 [Eval]: 100%|██████████| 79/79 [00:02<00:00, 28.43it/s, acc=34.8, cert_acc=13.9]\n"
          ]
        },
        {
          "metadata": {
            "tags": null
          },
          "name": "stdout",
          "output_type": "stream",
          "text": [
            "Epoch 9: EMMA train loss 1.7988 | Acc 34.78% | Certified 13.94%\n"
          ]
        },
        {
          "metadata": {
            "tags": null
          },
          "name": "stderr",
          "output_type": "stream",
          "text": [
            "Epoch 10 [Train]: 100%|██████████| 391/391 [00:32<00:00, 11.95it/s, loss=1.78]\n",
            "Epoch 10 [Eval]: 100%|██████████| 79/79 [00:02<00:00, 28.18it/s, acc=34.2, cert_acc=11.3]\n"
          ]
        },
        {
          "metadata": {
            "tags": null
          },
          "name": "stdout",
          "output_type": "stream",
          "text": [
            "Epoch 10: EMMA train loss 1.7787 | Acc 34.24% | Certified 11.30%\n"
          ]
        },
        {
          "metadata": {
            "tags": null
          },
          "name": "stderr",
          "output_type": "stream",
          "text": [
            "Epoch 11 [Train]: 100%|██████████| 391/391 [00:32<00:00, 11.99it/s, loss=1.77]\n",
            "Epoch 11 [Eval]: 100%|██████████| 79/79 [00:02<00:00, 28.20it/s, acc=36.4, cert_acc=12.3]\n"
          ]
        },
        {
          "metadata": {
            "tags": null
          },
          "name": "stdout",
          "output_type": "stream",
          "text": [
            "Epoch 11: EMMA train loss 1.7662 | Acc 36.43% | Certified 12.29%\n"
          ]
        },
        {
          "metadata": {
            "tags": null
          },
          "name": "stderr",
          "output_type": "stream",
          "text": [
            "Epoch 12 [Train]: 100%|██████████| 391/391 [00:33<00:00, 11.69it/s, loss=1.76]\n",
            "Epoch 12 [Eval]: 100%|██████████| 79/79 [00:02<00:00, 28.47it/s, acc=37.1, cert_acc=12.4]\n"
          ]
        },
        {
          "metadata": {
            "tags": null
          },
          "name": "stdout",
          "output_type": "stream",
          "text": [
            "Epoch 12: EMMA train loss 1.7587 | Acc 37.12% | Certified 12.45%\n"
          ]
        },
        {
          "metadata": {
            "tags": null
          },
          "name": "stderr",
          "output_type": "stream",
          "text": [
            "Epoch 13 [Train]: 100%|██████████| 391/391 [00:32<00:00, 12.14it/s, loss=1.75]\n",
            "Epoch 13 [Eval]: 100%|██████████| 79/79 [00:03<00:00, 25.38it/s, acc=34.5, cert_acc=9.8]\n"
          ]
        },
        {
          "metadata": {
            "tags": null
          },
          "name": "stdout",
          "output_type": "stream",
          "text": [
            "Epoch 13: EMMA train loss 1.7462 | Acc 34.51% | Certified 9.80%\n"
          ]
        },
        {
          "metadata": {
            "tags": null
          },
          "name": "stderr",
          "output_type": "stream",
          "text": [
            "Epoch 14 [Train]: 100%|██████████| 391/391 [00:31<00:00, 12.31it/s, loss=1.73]\n",
            "Epoch 14 [Eval]: 100%|██████████| 79/79 [00:03<00:00, 21.90it/s, acc=36, cert_acc=11]\n"
          ]
        },
        {
          "metadata": {
            "tags": null
          },
          "name": "stdout",
          "output_type": "stream",
          "text": [
            "Epoch 14: EMMA train loss 1.7348 | Acc 35.97% | Certified 11.00%\n"
          ]
        },
        {
          "metadata": {
            "tags": null
          },
          "name": "stderr",
          "output_type": "stream",
          "text": [
            "Epoch 15 [Train]: 100%|██████████| 391/391 [00:31<00:00, 12.24it/s, loss=1.73]\n",
            "Epoch 15 [Eval]: 100%|██████████| 79/79 [00:02<00:00, 26.36it/s, acc=36.4, cert_acc=9.09]\n"
          ]
        },
        {
          "metadata": {
            "tags": null
          },
          "name": "stdout",
          "output_type": "stream",
          "text": [
            "Epoch 15: EMMA train loss 1.7311 | Acc 36.42% | Certified 9.09%\n"
          ]
        },
        {
          "metadata": {
            "tags": null
          },
          "name": "stderr",
          "output_type": "stream",
          "text": [
            "Epoch 16 [Train]: 100%|██████████| 391/391 [00:32<00:00, 12.05it/s, loss=1.72]\n",
            "Epoch 16 [Eval]: 100%|██████████| 79/79 [00:02<00:00, 28.36it/s, acc=37.3, cert_acc=10.5]\n"
          ]
        },
        {
          "metadata": {
            "tags": null
          },
          "name": "stdout",
          "output_type": "stream",
          "text": [
            "Epoch 16: EMMA train loss 1.7196 | Acc 37.29% | Certified 10.51%\n"
          ]
        },
        {
          "metadata": {
            "tags": null
          },
          "name": "stderr",
          "output_type": "stream",
          "text": [
            "Epoch 17 [Train]: 100%|██████████| 391/391 [00:33<00:00, 11.60it/s, loss=1.72]\n",
            "Epoch 17 [Eval]: 100%|██████████| 79/79 [00:02<00:00, 28.43it/s, acc=36.8, cert_acc=7.24]\n"
          ]
        },
        {
          "metadata": {
            "tags": null
          },
          "name": "stdout",
          "output_type": "stream",
          "text": [
            "Epoch 17: EMMA train loss 1.7183 | Acc 36.83% | Certified 7.24%\n"
          ]
        },
        {
          "metadata": {
            "tags": null
          },
          "name": "stderr",
          "output_type": "stream",
          "text": [
            "Epoch 18 [Train]: 100%|██████████| 391/391 [00:32<00:00, 11.97it/s, loss=1.71]\n",
            "Epoch 18 [Eval]: 100%|██████████| 79/79 [00:02<00:00, 28.66it/s, acc=36.5, cert_acc=8.63]\n"
          ]
        },
        {
          "metadata": {
            "tags": null
          },
          "name": "stdout",
          "output_type": "stream",
          "text": [
            "Epoch 18: EMMA train loss 1.7123 | Acc 36.53% | Certified 8.63%\n"
          ]
        },
        {
          "metadata": {
            "tags": null
          },
          "name": "stderr",
          "output_type": "stream",
          "text": [
            "Epoch 19 [Train]: 100%|██████████| 391/391 [00:32<00:00, 11.98it/s, loss=1.7]\n",
            "Epoch 19 [Eval]: 100%|██████████| 79/79 [00:02<00:00, 28.47it/s, acc=39.9, cert_acc=7.68]\n"
          ]
        },
        {
          "metadata": {
            "tags": null
          },
          "name": "stdout",
          "output_type": "stream",
          "text": [
            "Epoch 19: EMMA train loss 1.7043 | Acc 39.94% | Certified 7.68%\n"
          ]
        },
        {
          "metadata": {
            "tags": null
          },
          "name": "stderr",
          "output_type": "stream",
          "text": [
            "Epoch 20 [Train]: 100%|██████████| 391/391 [00:32<00:00, 12.09it/s, loss=1.7]\n",
            "Epoch 20 [Eval]: 100%|██████████| 79/79 [00:03<00:00, 25.92it/s, acc=38.4, cert_acc=7.85]\n"
          ]
        },
        {
          "metadata": {
            "tags": null
          },
          "name": "stdout",
          "output_type": "stream",
          "text": [
            "Epoch 20: EMMA train loss 1.7025 | Acc 38.43% | Certified 7.85%\n"
          ]
        },
        {
          "metadata": {
            "tags": null
          },
          "name": "stderr",
          "output_type": "stream",
          "text": [
            "Epoch 21 [Train]: 100%|██████████| 391/391 [00:31<00:00, 12.33it/s, loss=1.7]\n",
            "Epoch 21 [Eval]: 100%|██████████| 79/79 [00:03<00:00, 21.63it/s, acc=39.8, cert_acc=7.11]\n"
          ]
        },
        {
          "metadata": {
            "tags": null
          },
          "name": "stdout",
          "output_type": "stream",
          "text": [
            "Epoch 21: EMMA train loss 1.6993 | Acc 39.78% | Certified 7.11%\n"
          ]
        },
        {
          "metadata": {
            "tags": null
          },
          "name": "stderr",
          "output_type": "stream",
          "text": [
            "Epoch 22 [Train]: 100%|██████████| 391/391 [00:32<00:00, 11.96it/s, loss=1.7]\n",
            "Epoch 22 [Eval]: 100%|██████████| 79/79 [00:03<00:00, 22.47it/s, acc=37.8, cert_acc=6.33]\n"
          ]
        },
        {
          "metadata": {
            "tags": null
          },
          "name": "stdout",
          "output_type": "stream",
          "text": [
            "Epoch 22: EMMA train loss 1.6956 | Acc 37.78% | Certified 6.33%\n"
          ]
        },
        {
          "metadata": {
            "tags": null
          },
          "name": "stderr",
          "output_type": "stream",
          "text": [
            "Epoch 23 [Train]: 100%|██████████| 391/391 [00:32<00:00, 12.22it/s, loss=1.69]\n",
            "Epoch 23 [Eval]: 100%|██████████| 79/79 [00:02<00:00, 27.74it/s, acc=40.9, cert_acc=6.17]\n"
          ]
        },
        {
          "metadata": {
            "tags": null
          },
          "name": "stdout",
          "output_type": "stream",
          "text": [
            "Epoch 23: EMMA train loss 1.6901 | Acc 40.85% | Certified 6.17%\n"
          ]
        },
        {
          "metadata": {
            "tags": null
          },
          "name": "stderr",
          "output_type": "stream",
          "text": [
            "Epoch 24 [Train]: 100%|██████████| 391/391 [00:32<00:00, 11.94it/s, loss=1.68]\n",
            "Epoch 24 [Eval]: 100%|██████████| 79/79 [00:02<00:00, 28.29it/s, acc=40.2, cert_acc=5.86]\n"
          ]
        },
        {
          "metadata": {
            "tags": null
          },
          "name": "stdout",
          "output_type": "stream",
          "text": [
            "Epoch 24: EMMA train loss 1.6846 | Acc 40.22% | Certified 5.86%\n"
          ]
        },
        {
          "metadata": {
            "tags": null
          },
          "name": "stderr",
          "output_type": "stream",
          "text": [
            "Epoch 25 [Train]: 100%|██████████| 391/391 [00:32<00:00, 11.93it/s, loss=1.68]\n",
            "Epoch 25 [Eval]: 100%|██████████| 79/79 [00:02<00:00, 28.35it/s, acc=39.9, cert_acc=4.87]\n"
          ]
        },
        {
          "metadata": {
            "tags": null
          },
          "name": "stdout",
          "output_type": "stream",
          "text": [
            "Epoch 25: EMMA train loss 1.6835 | Acc 39.94% | Certified 4.87%\n"
          ]
        },
        {
          "metadata": {
            "tags": null
          },
          "name": "stderr",
          "output_type": "stream",
          "text": [
            "Epoch 26 [Train]: 100%|██████████| 391/391 [00:33<00:00, 11.81it/s, loss=1.69]\n",
            "Epoch 26 [Eval]: 100%|██████████| 79/79 [00:02<00:00, 28.21it/s, acc=42.1, cert_acc=5.31]\n"
          ]
        },
        {
          "metadata": {
            "tags": null
          },
          "name": "stdout",
          "output_type": "stream",
          "text": [
            "Epoch 26: EMMA train loss 1.6863 | Acc 42.11% | Certified 5.31%\n"
          ]
        },
        {
          "metadata": {
            "tags": null
          },
          "name": "stderr",
          "output_type": "stream",
          "text": [
            "Epoch 27 [Train]: 100%|██████████| 391/391 [00:33<00:00, 11.65it/s, loss=1.68]\n",
            "Epoch 27 [Eval]: 100%|██████████| 79/79 [00:02<00:00, 27.88it/s, acc=40.7, cert_acc=4.58]\n"
          ]
        },
        {
          "metadata": {
            "tags": null
          },
          "name": "stdout",
          "output_type": "stream",
          "text": [
            "Epoch 27: EMMA train loss 1.6816 | Acc 40.68% | Certified 4.58%\n"
          ]
        },
        {
          "metadata": {
            "tags": null
          },
          "name": "stderr",
          "output_type": "stream",
          "text": [
            "Epoch 28 [Train]: 100%|██████████| 391/391 [00:32<00:00, 11.90it/s, loss=1.67]\n",
            "Epoch 28 [Eval]: 100%|██████████| 79/79 [00:02<00:00, 28.15it/s, acc=41.9, cert_acc=3.65]\n"
          ]
        },
        {
          "metadata": {
            "tags": null
          },
          "name": "stdout",
          "output_type": "stream",
          "text": [
            "Epoch 28: EMMA train loss 1.6734 | Acc 41.91% | Certified 3.65%\n"
          ]
        },
        {
          "metadata": {
            "tags": null
          },
          "name": "stderr",
          "output_type": "stream",
          "text": [
            "Epoch 29 [Train]: 100%|██████████| 391/391 [00:32<00:00, 12.08it/s, loss=1.67]\n",
            "Epoch 29 [Eval]: 100%|██████████| 79/79 [00:03<00:00, 24.57it/s, acc=42.4, cert_acc=5.4]\n"
          ]
        },
        {
          "metadata": {
            "tags": null
          },
          "name": "stdout",
          "output_type": "stream",
          "text": [
            "Epoch 29: EMMA train loss 1.6745 | Acc 42.39% | Certified 5.40%\n"
          ]
        },
        {
          "metadata": {
            "tags": null
          },
          "name": "stderr",
          "output_type": "stream",
          "text": [
            "Epoch 30 [Train]: 100%|██████████| 391/391 [00:31<00:00, 12.26it/s, loss=1.68]\n",
            "Epoch 30 [Eval]: 100%|██████████| 79/79 [00:03<00:00, 21.05it/s, acc=42.3, cert_acc=4.15]\n"
          ]
        },
        {
          "metadata": {
            "tags": null
          },
          "name": "stdout",
          "output_type": "stream",
          "text": [
            "Epoch 30: EMMA train loss 1.6848 | Acc 42.32% | Certified 4.15%\n"
          ]
        },
        {
          "metadata": {
            "tags": null
          },
          "name": "stderr",
          "output_type": "stream",
          "text": [
            "Epoch 31 [Train]: 100%|██████████| 391/391 [00:31<00:00, 12.22it/s, loss=1.68]\n",
            "Epoch 31 [Eval]: 100%|██████████| 79/79 [00:03<00:00, 25.72it/s, acc=42.6, cert_acc=4.13]\n"
          ]
        },
        {
          "metadata": {
            "tags": null
          },
          "name": "stdout",
          "output_type": "stream",
          "text": [
            "Epoch 31: EMMA train loss 1.6787 | Acc 42.60% | Certified 4.13%\n"
          ]
        },
        {
          "metadata": {
            "tags": null
          },
          "name": "stderr",
          "output_type": "stream",
          "text": [
            "Epoch 32 [Train]: 100%|██████████| 391/391 [00:33<00:00, 11.72it/s, loss=1.68]\n",
            "Epoch 32 [Eval]: 100%|██████████| 79/79 [00:02<00:00, 28.46it/s, acc=43.1, cert_acc=3.82]\n"
          ]
        },
        {
          "metadata": {
            "tags": null
          },
          "name": "stdout",
          "output_type": "stream",
          "text": [
            "Epoch 32: EMMA train loss 1.6760 | Acc 43.14% | Certified 3.82%\n"
          ]
        },
        {
          "metadata": {
            "tags": null
          },
          "name": "stderr",
          "output_type": "stream",
          "text": [
            "Epoch 33 [Train]: 100%|██████████| 391/391 [00:32<00:00, 11.91it/s, loss=1.67]\n",
            "Epoch 33 [Eval]: 100%|██████████| 79/79 [00:02<00:00, 28.76it/s, acc=43, cert_acc=3.05]\n"
          ]
        },
        {
          "metadata": {
            "tags": null
          },
          "name": "stdout",
          "output_type": "stream",
          "text": [
            "Epoch 33: EMMA train loss 1.6734 | Acc 43.02% | Certified 3.05%\n"
          ]
        },
        {
          "metadata": {
            "tags": null
          },
          "name": "stderr",
          "output_type": "stream",
          "text": [
            "Epoch 34 [Train]: 100%|██████████| 391/391 [00:32<00:00, 11.98it/s, loss=1.68]\n",
            "Epoch 34 [Eval]: 100%|██████████| 79/79 [00:02<00:00, 27.36it/s, acc=41.9, cert_acc=2.47]\n"
          ]
        },
        {
          "metadata": {
            "tags": null
          },
          "name": "stdout",
          "output_type": "stream",
          "text": [
            "Epoch 34: EMMA train loss 1.6767 | Acc 41.85% | Certified 2.47%\n"
          ]
        },
        {
          "metadata": {
            "tags": null
          },
          "name": "stderr",
          "output_type": "stream",
          "text": [
            "Epoch 35 [Train]: 100%|██████████| 391/391 [00:32<00:00, 11.90it/s, loss=1.67]\n",
            "Epoch 35 [Eval]: 100%|██████████| 79/79 [00:02<00:00, 28.23it/s, acc=42.9, cert_acc=2.66]\n"
          ]
        },
        {
          "metadata": {
            "tags": null
          },
          "name": "stdout",
          "output_type": "stream",
          "text": [
            "Epoch 35: EMMA train loss 1.6712 | Acc 42.94% | Certified 2.66%\n"
          ]
        },
        {
          "metadata": {
            "tags": null
          },
          "name": "stderr",
          "output_type": "stream",
          "text": [
            "Epoch 36 [Train]: 100%|██████████| 391/391 [00:32<00:00, 12.04it/s, loss=1.67]\n",
            "Epoch 36 [Eval]: 100%|██████████| 79/79 [00:02<00:00, 26.58it/s, acc=44, cert_acc=1.47]\n"
          ]
        },
        {
          "metadata": {
            "tags": null
          },
          "name": "stdout",
          "output_type": "stream",
          "text": [
            "Epoch 36: EMMA train loss 1.6703 | Acc 43.99% | Certified 1.47%\n"
          ]
        },
        {
          "metadata": {
            "tags": null
          },
          "name": "stderr",
          "output_type": "stream",
          "text": [
            "Epoch 37 [Train]: 100%|██████████| 391/391 [00:32<00:00, 11.87it/s, loss=1.67]\n",
            "Epoch 37 [Eval]: 100%|██████████| 79/79 [00:03<00:00, 23.86it/s, acc=44.8, cert_acc=1.52]\n"
          ]
        },
        {
          "metadata": {
            "tags": null
          },
          "name": "stdout",
          "output_type": "stream",
          "text": [
            "Epoch 37: EMMA train loss 1.6658 | Acc 44.81% | Certified 1.52%\n"
          ]
        },
        {
          "metadata": {
            "tags": null
          },
          "name": "stderr",
          "output_type": "stream",
          "text": [
            "Epoch 38 [Train]: 100%|██████████| 391/391 [00:31<00:00, 12.31it/s, loss=1.66]\n",
            "Epoch 38 [Eval]: 100%|██████████| 79/79 [00:03<00:00, 21.98it/s, acc=43.1, cert_acc=0.75]\n"
          ]
        },
        {
          "metadata": {
            "tags": null
          },
          "name": "stdout",
          "output_type": "stream",
          "text": [
            "Epoch 38: EMMA train loss 1.6640 | Acc 43.06% | Certified 0.75%\n"
          ]
        },
        {
          "metadata": {
            "tags": null
          },
          "name": "stderr",
          "output_type": "stream",
          "text": [
            "Epoch 39 [Train]: 100%|██████████| 391/391 [00:31<00:00, 12.27it/s, loss=1.66]\n",
            "Epoch 39 [Eval]: 100%|██████████| 79/79 [00:02<00:00, 27.40it/s, acc=44.3, cert_acc=0.64]\n"
          ]
        },
        {
          "metadata": {
            "tags": null
          },
          "name": "stdout",
          "output_type": "stream",
          "text": [
            "Epoch 39: EMMA train loss 1.6595 | Acc 44.34% | Certified 0.64%\n"
          ]
        },
        {
          "metadata": {
            "tags": null
          },
          "name": "stderr",
          "output_type": "stream",
          "text": [
            "Epoch 40 [Train]: 100%|██████████| 391/391 [00:32<00:00, 12.04it/s, loss=1.65]\n",
            "Epoch 40 [Eval]: 100%|██████████| 79/79 [00:02<00:00, 27.42it/s, acc=44.2, cert_acc=0.97]\n"
          ]
        },
        {
          "metadata": {
            "tags": null
          },
          "name": "stdout",
          "output_type": "stream",
          "text": [
            "Epoch 40: EMMA train loss 1.6483 | Acc 44.17% | Certified 0.97%\n"
          ]
        },
        {
          "metadata": {
            "tags": null
          },
          "name": "stderr",
          "output_type": "stream",
          "text": [
            "Epoch 41 [Train]: 100%|██████████| 391/391 [00:32<00:00, 11.98it/s, loss=1.64]\n",
            "Epoch 41 [Eval]: 100%|██████████| 79/79 [00:02<00:00, 28.12it/s, acc=44.9, cert_acc=0.65]\n"
          ]
        },
        {
          "metadata": {
            "tags": null
          },
          "name": "stdout",
          "output_type": "stream",
          "text": [
            "Epoch 41: EMMA train loss 1.6411 | Acc 44.93% | Certified 0.65%\n"
          ]
        },
        {
          "metadata": {
            "tags": null
          },
          "name": "stderr",
          "output_type": "stream",
          "text": [
            "Epoch 42 [Train]: 100%|██████████| 391/391 [00:32<00:00, 11.99it/s, loss=1.63]\n",
            "Epoch 42 [Eval]: 100%|██████████| 79/79 [00:02<00:00, 28.17it/s, acc=45.2, cert_acc=0.11]\n"
          ]
        },
        {
          "metadata": {
            "tags": null
          },
          "name": "stdout",
          "output_type": "stream",
          "text": [
            "Epoch 42: EMMA train loss 1.6281 | Acc 45.18% | Certified 0.11%\n"
          ]
        },
        {
          "metadata": {
            "tags": null
          },
          "name": "stderr",
          "output_type": "stream",
          "text": [
            "Epoch 43 [Train]: 100%|██████████| 391/391 [00:33<00:00, 11.69it/s, loss=1.62]\n",
            "Epoch 43 [Eval]: 100%|██████████| 79/79 [00:02<00:00, 28.13it/s, acc=45.3, cert_acc=0.3]\n"
          ]
        },
        {
          "metadata": {
            "tags": null
          },
          "name": "stdout",
          "output_type": "stream",
          "text": [
            "Epoch 43: EMMA train loss 1.6222 | Acc 45.30% | Certified 0.30%\n"
          ]
        },
        {
          "metadata": {
            "tags": null
          },
          "name": "stderr",
          "output_type": "stream",
          "text": [
            "Epoch 44 [Train]: 100%|██████████| 391/391 [00:32<00:00, 12.02it/s, loss=1.61]\n",
            "Epoch 44 [Eval]: 100%|██████████| 79/79 [00:02<00:00, 28.26it/s, acc=44.7, cert_acc=0.03]\n"
          ]
        },
        {
          "metadata": {
            "tags": null
          },
          "name": "stdout",
          "output_type": "stream",
          "text": [
            "Epoch 44: EMMA train loss 1.6092 | Acc 44.70% | Certified 0.03%\n"
          ]
        },
        {
          "metadata": {
            "tags": null
          },
          "name": "stderr",
          "output_type": "stream",
          "text": [
            "Epoch 45 [Train]: 100%|██████████| 391/391 [00:31<00:00, 12.31it/s, loss=1.6]\n",
            "Epoch 45 [Eval]: 100%|██████████| 79/79 [00:03<00:00, 22.70it/s, acc=45.7, cert_acc=0.02]\n"
          ]
        },
        {
          "metadata": {
            "tags": null
          },
          "name": "stdout",
          "output_type": "stream",
          "text": [
            "Epoch 45: EMMA train loss 1.6026 | Acc 45.68% | Certified 0.02%\n"
          ]
        },
        {
          "metadata": {
            "tags": null
          },
          "name": "stderr",
          "output_type": "stream",
          "text": [
            "Epoch 46 [Train]: 100%|██████████| 391/391 [00:31<00:00, 12.24it/s, loss=1.6]\n",
            "Epoch 46 [Eval]: 100%|██████████| 79/79 [00:03<00:00, 21.58it/s, acc=45.2, cert_acc=0]\n"
          ]
        },
        {
          "metadata": {
            "tags": null
          },
          "name": "stdout",
          "output_type": "stream",
          "text": [
            "Epoch 46: EMMA train loss 1.5957 | Acc 45.22% | Certified 0.00%\n"
          ]
        },
        {
          "metadata": {
            "tags": null
          },
          "name": "stderr",
          "output_type": "stream",
          "text": [
            "Epoch 47 [Train]: 100%|██████████| 391/391 [00:31<00:00, 12.30it/s, loss=1.59]\n",
            "Epoch 47 [Eval]: 100%|██████████| 79/79 [00:02<00:00, 27.94it/s, acc=45.3, cert_acc=0]\n"
          ]
        },
        {
          "metadata": {
            "tags": null
          },
          "name": "stdout",
          "output_type": "stream",
          "text": [
            "Epoch 47: EMMA train loss 1.5895 | Acc 45.32% | Certified 0.00%\n"
          ]
        },
        {
          "metadata": {
            "tags": null
          },
          "name": "stderr",
          "output_type": "stream",
          "text": [
            "Epoch 48 [Train]: 100%|██████████| 391/391 [00:33<00:00, 11.71it/s, loss=1.58]\n",
            "Epoch 48 [Eval]: 100%|██████████| 79/79 [00:02<00:00, 28.17it/s, acc=45.9, cert_acc=0]\n"
          ]
        },
        {
          "metadata": {
            "tags": null
          },
          "name": "stdout",
          "output_type": "stream",
          "text": [
            "Epoch 48: EMMA train loss 1.5828 | Acc 45.85% | Certified 0.00%\n"
          ]
        },
        {
          "output_type": "stream",
          "name": "stderr",
          "text": [
            "Epoch 49 [Train]: 100%|██████████| 391/391 [00:32<00:00, 11.92it/s, loss=1.57]\n",
            "Epoch 49 [Eval]: 100%|██████████| 79/79 [00:02<00:00, 27.77it/s, acc=46.1, cert_acc=0]\n"
          ]
        },
        {
          "output_type": "stream",
          "name": "stdout",
          "text": [
            "Epoch 49: EMMA train loss 1.5744 | Acc 46.11% | Certified 0.00%\n"
          ]
        },
        {
          "output_type": "stream",
          "name": "stderr",
          "text": [
            "Epoch 50 [Train]: 100%|██████████| 391/391 [00:32<00:00, 11.91it/s, loss=1.57]\n",
            "Epoch 50 [Eval]: 100%|██████████| 79/79 [00:02<00:00, 27.79it/s, acc=46, cert_acc=0]"
          ]
        },
        {
          "output_type": "stream",
          "name": "stdout",
          "text": [
            "Epoch 50: EMMA train loss 1.5727 | Acc 45.95% | Certified 0.00%\n"
          ]
        },
        {
          "output_type": "stream",
          "name": "stderr",
          "text": [
            "\n"
          ]
        }
      ],
      "source": [
        "\n",
        "# ---------- 4. Training --------------------------------------------------\n",
        "\n",
        "def train_lipsformer():\n",
        "    device = 'cuda' if torch.cuda.is_available() else 'cpu'\n",
        "\n",
        "    transform_train = transforms.Compose([\n",
        "        transforms.RandomCrop(32, padding=4),\n",
        "        transforms.RandomHorizontalFlip(),\n",
        "        transforms.ToTensor(),\n",
        "        transforms.Normalize((0.4914,0.4822,0.4465),(0.2023,0.1994,0.2010))\n",
        "    ])\n",
        "    transform_test = transforms.Compose([\n",
        "        transforms.ToTensor(),\n",
        "        transforms.Normalize((0.4914,0.4822,0.4465),(0.2023,0.1994,0.2010))\n",
        "    ])\n",
        "\n",
        "    trainset = torchvision.datasets.CIFAR10(root='./data', train=True, download=True, transform=transform_train)\n",
        "    testset = torchvision.datasets.CIFAR10(root='./data', train=False, download=True, transform=transform_test)\n",
        "\n",
        "    trainloader = DataLoader(trainset, batch_size=128, shuffle=True, num_workers=2)\n",
        "    testloader = DataLoader(testset, batch_size=128, shuffle=False, num_workers=2)\n",
        "\n",
        "    model = LipsFormerTransformer(embed_dim=128, depth=6, num_heads=4).to(device)\n",
        "    optimizer = torch.optim.AdamW(model.parameters(), lr=2e-4, weight_decay=0.05)\n",
        "    scheduler = torch.optim.lr_scheduler.CosineAnnealingLR(optimizer, T_max=100)\n",
        "\n",
        "    for epoch in range(50):\n",
        "        # ----------------- Training -----------------\n",
        "        model.train()\n",
        "        running_loss = 0.0\n",
        "        train_bar = tqdm(trainloader, desc=f\"Epoch {epoch+1} [Train]\")\n",
        "        for i, (inputs, labels) in enumerate(train_bar):\n",
        "            inputs, labels = inputs.to(device), labels.to(device)\n",
        "            optimizer.zero_grad()\n",
        "            loss = emma_loss(model, inputs, labels)\n",
        "            loss.backward()\n",
        "            torch.nn.utils.clip_grad_norm_(model.parameters(), 1.0)\n",
        "            optimizer.step()\n",
        "            running_loss += loss.item()\n",
        "            train_bar.set_postfix(loss=running_loss/(i+1))\n",
        "\n",
        "        scheduler.step()\n",
        "\n",
        "        # ----------------- Evaluation -----------------\n",
        "        model.eval()\n",
        "        correct, cert = 0, 0\n",
        "        lc = model.get_lc()\n",
        "        test_bar = tqdm(testloader, desc=f\"Epoch {epoch+1} [Eval]\")\n",
        "        with torch.no_grad():\n",
        "            for x, y in test_bar:\n",
        "                x, y = x.to(device), y.to(device)\n",
        "                out = model(x)\n",
        "                pred = out.argmax(1)\n",
        "                correct += (pred == y).sum().item()\n",
        "\n",
        "                true_logit = out.gather(1, y.view(-1,1)).squeeze()\n",
        "                other_max = out.scatter(1, y.view(-1,1), -float('inf')).max(1)[0]\n",
        "                gap = true_logit - other_max\n",
        "                cert += (gap > lc * 8/255).sum().item()\n",
        "\n",
        "                test_bar.set_postfix(\n",
        "                    acc=100 * correct / len(testloader.dataset),\n",
        "                    cert_acc=100 * cert / len(testloader.dataset)\n",
        "                )\n",
        "\n",
        "        acc = correct / len(testset)\n",
        "        cert_acc = cert / len(testset)\n",
        "        print(f\"Epoch {epoch+1}: EMMA train loss {running_loss/len(trainloader):.4f} | \"\n",
        "              f\"Acc {acc*100:.2f}% | Certified {cert_acc*100:.2f}%\")\n",
        "\n",
        "    return model\n",
        "\n",
        "if __name__ == \"__main__\":\n",
        "    model = train_lipsformer()\n"
      ]
    },
    {
      "cell_type": "code",
      "source": [
        "from tqdm import tqdm\n",
        "import csv\n",
        "import matplotlib.pyplot as plt\n",
        "\n",
        "def train_lipsformer():\n",
        "    device = 'cuda' if torch.cuda.is_available() else 'cpu'\n",
        "\n",
        "    transform_train = transforms.Compose([\n",
        "        transforms.RandomCrop(32, padding=4),\n",
        "        transforms.RandomHorizontalFlip(),\n",
        "        transforms.ToTensor(),\n",
        "        transforms.Normalize((0.4914,0.4822,0.4465),(0.2023,0.1994,0.2010))\n",
        "    ])\n",
        "    transform_test = transforms.Compose([\n",
        "        transforms.ToTensor(),\n",
        "        transforms.Normalize((0.4914,0.4822,0.4465),(0.2023,0.1994,0.2010))\n",
        "    ])\n",
        "\n",
        "    trainset = torchvision.datasets.CIFAR10(root='./data', train=True, download=True, transform=transform_train)\n",
        "    testset = torchvision.datasets.CIFAR10(root='./data', train=False, download=True, transform=transform_test)\n",
        "\n",
        "    trainloader = DataLoader(trainset, batch_size=128, shuffle=True, num_workers=2)\n",
        "    testloader = DataLoader(testset, batch_size=128, shuffle=False, num_workers=2)\n",
        "\n",
        "    model = LipsFormerTransformer(embed_dim=128, depth=6, num_heads=4).to(device)\n",
        "    optimizer = torch.optim.AdamW(model.parameters(), lr=2e-4, weight_decay=0.05)\n",
        "    scheduler = torch.optim.lr_scheduler.CosineAnnealingLR(optimizer, T_max=50)\n",
        "\n",
        "    # storage\n",
        "    train_losses, clean_accs, cert_accs, lcs = [], [], [], []\n",
        "\n",
        "    for epoch in range(50):\n",
        "        # ----------------- Training -----------------\n",
        "        model.train()\n",
        "        running_loss = 0.0\n",
        "        train_bar = tqdm(trainloader, desc=f\"Epoch {epoch+1} [Train]\")\n",
        "        for i, (inputs, labels) in enumerate(train_bar):\n",
        "            inputs, labels = inputs.to(device), labels.to(device)\n",
        "            optimizer.zero_grad()\n",
        "            loss = emma_loss(model, inputs, labels)\n",
        "            loss.backward()\n",
        "            torch.nn.utils.clip_grad_norm_(model.parameters(), 1.0)\n",
        "            optimizer.step()\n",
        "            running_loss += loss.item()\n",
        "            train_bar.set_postfix(loss=running_loss/(i+1))\n",
        "\n",
        "        scheduler.step()\n",
        "        avg_loss = running_loss / len(trainloader)\n",
        "        train_losses.append(avg_loss)\n",
        "\n",
        "        # ----------------- Evaluation -----------------\n",
        "        model.eval()\n",
        "        correct, cert = 0, 0\n",
        "        lc = model.get_lc()\n",
        "        with torch.no_grad():\n",
        "            for x, y in testloader:\n",
        "                x, y = x.to(device), y.to(device)\n",
        "                out = model(x)\n",
        "                pred = out.argmax(1)\n",
        "                correct += (pred == y).sum().item()\n",
        "\n",
        "                true_logit = out.gather(1, y.view(-1,1)).squeeze()\n",
        "                other_max = out.scatter(1, y.view(-1,1), -float('inf')).max(1)[0]\n",
        "                gap = true_logit - other_max\n",
        "                cert += (gap > lc * 8/255).sum().item()\n",
        "\n",
        "        acc = correct / len(testset)\n",
        "        cert_acc = cert / len(testset)\n",
        "        clean_accs.append(acc)\n",
        "        cert_accs.append(cert_acc)\n",
        "        lcs.append(lc)\n",
        "\n",
        "        print(f\"Epoch {epoch+1}: loss {avg_loss:.4f} | \"\n",
        "              f\"Acc {acc*100:.2f}% | Certified {cert_acc*100:.2f}% | LC {lc:.2f}\")\n",
        "\n",
        "    # save logs to CSV\n",
        "    with open(\"lipsformer_metrics.csv\", \"w\", newline=\"\") as f:\n",
        "        writer = csv.writer(f)\n",
        "        writer.writerow([\"Epoch\", \"TrainLoss\", \"CleanAcc\", \"CertAcc\", \"LipschitzConst\"])\n",
        "        for i in range(len(train_losses)):\n",
        "            writer.writerow([\n",
        "                i+1,\n",
        "                train_losses[i],\n",
        "                clean_accs[i]*100,\n",
        "                cert_accs[i]*100,\n",
        "                lcs[i]\n",
        "            ])\n",
        "\n",
        "    # plots\n",
        "    plt.plot(train_losses)\n",
        "    plt.title(\"Training Loss\")\n",
        "    plt.xlabel(\"Epoch\")\n",
        "    plt.ylabel(\"Loss\")\n",
        "    plt.show()\n",
        "\n",
        "    plt.plot([c*100 for c in clean_accs], label=\"Clean Acc\")\n",
        "    plt.plot([v*100 for v in cert_accs], label=\"Certified Acc\")\n",
        "    plt.title(\"Accuracy\")\n",
        "    plt.xlabel(\"Epoch\")\n",
        "    plt.ylabel(\"Accuracy (%)\")\n",
        "    plt.legend()\n",
        "    plt.show()\n",
        "\n",
        "    plt.plot(lcs)\n",
        "    plt.title(\"Lipschitz Constant\")\n",
        "    plt.xlabel(\"Epoch\")\n",
        "    plt.ylabel(\"LC\")\n",
        "    plt.show()\n",
        "\n",
        "    # save final model\n",
        "    torch.save(model.state_dict(), 'lipsformer_emma.pt')\n",
        "    print('Saved lipsformer_emma.pt')\n",
        "\n",
        "    return model, (train_losses, clean_accs, cert_accs, lcs)\n",
        "\n",
        "\n",
        "if __name__ == \"__main__\":\n",
        "    train_lipsformer()"
      ],
      "metadata": {
        "colab": {
          "base_uri": "https://localhost:8080/",
          "height": 1000
        },
        "id": "VbGolyz7Wa-5",
        "outputId": "fa9b358d-5ada-4057-963f-afff4fb22bf0"
      },
      "execution_count": 2,
      "outputs": [
        {
          "output_type": "stream",
          "name": "stderr",
          "text": [
            "100%|██████████| 170M/170M [06:27<00:00, 439kB/s]\n",
            "Epoch 1 [Train]: 100%|██████████| 391/391 [00:34<00:00, 11.45it/s, loss=2.14]\n"
          ]
        },
        {
          "output_type": "stream",
          "name": "stdout",
          "text": [
            "Epoch 1: loss 2.1408 | Acc 24.15% | Certified 17.53% | LC 2.09\n"
          ]
        },
        {
          "output_type": "stream",
          "name": "stderr",
          "text": [
            "Epoch 2 [Train]: 100%|██████████| 391/391 [00:33<00:00, 11.85it/s, loss=2.05]\n"
          ]
        },
        {
          "output_type": "stream",
          "name": "stdout",
          "text": [
            "Epoch 2: loss 2.0502 | Acc 24.96% | Certified 17.08% | LC 2.96\n"
          ]
        },
        {
          "output_type": "stream",
          "name": "stderr",
          "text": [
            "Epoch 3 [Train]: 100%|██████████| 391/391 [00:33<00:00, 11.71it/s, loss=2.01]\n"
          ]
        },
        {
          "output_type": "stream",
          "name": "stdout",
          "text": [
            "Epoch 3: loss 2.0129 | Acc 27.17% | Certified 18.25% | LC 4.12\n"
          ]
        },
        {
          "output_type": "stream",
          "name": "stderr",
          "text": [
            "Epoch 4 [Train]: 100%|██████████| 391/391 [00:33<00:00, 11.68it/s, loss=1.98]\n"
          ]
        },
        {
          "output_type": "stream",
          "name": "stdout",
          "text": [
            "Epoch 4: loss 1.9783 | Acc 29.18% | Certified 18.17% | LC 5.58\n"
          ]
        },
        {
          "output_type": "stream",
          "name": "stderr",
          "text": [
            "Epoch 5 [Train]: 100%|██████████| 391/391 [00:33<00:00, 11.56it/s, loss=1.92]\n"
          ]
        },
        {
          "output_type": "stream",
          "name": "stdout",
          "text": [
            "Epoch 5: loss 1.9249 | Acc 31.12% | Certified 17.54% | LC 7.53\n"
          ]
        },
        {
          "output_type": "stream",
          "name": "stderr",
          "text": [
            "Epoch 6 [Train]: 100%|██████████| 391/391 [00:34<00:00, 11.27it/s, loss=1.88]\n"
          ]
        },
        {
          "output_type": "stream",
          "name": "stdout",
          "text": [
            "Epoch 6: loss 1.8766 | Acc 33.33% | Certified 17.94% | LC 9.58\n"
          ]
        },
        {
          "output_type": "stream",
          "name": "stderr",
          "text": [
            "Epoch 7 [Train]: 100%|██████████| 391/391 [00:34<00:00, 11.40it/s, loss=1.84]\n"
          ]
        },
        {
          "output_type": "stream",
          "name": "stdout",
          "text": [
            "Epoch 7: loss 1.8410 | Acc 34.43% | Certified 16.40% | LC 11.43\n"
          ]
        },
        {
          "output_type": "stream",
          "name": "stderr",
          "text": [
            "Epoch 8 [Train]: 100%|██████████| 391/391 [00:33<00:00, 11.60it/s, loss=1.82]\n"
          ]
        },
        {
          "output_type": "stream",
          "name": "stdout",
          "text": [
            "Epoch 8: loss 1.8188 | Acc 34.64% | Certified 16.86% | LC 13.27\n"
          ]
        },
        {
          "output_type": "stream",
          "name": "stderr",
          "text": [
            "Epoch 9 [Train]: 100%|██████████| 391/391 [00:34<00:00, 11.43it/s, loss=1.8]\n"
          ]
        },
        {
          "output_type": "stream",
          "name": "stdout",
          "text": [
            "Epoch 9: loss 1.7971 | Acc 35.61% | Certified 14.92% | LC 14.95\n"
          ]
        },
        {
          "output_type": "stream",
          "name": "stderr",
          "text": [
            "Epoch 10 [Train]: 100%|██████████| 391/391 [00:33<00:00, 11.55it/s, loss=1.78]\n"
          ]
        },
        {
          "output_type": "stream",
          "name": "stdout",
          "text": [
            "Epoch 10: loss 1.7823 | Acc 36.24% | Certified 13.93% | LC 16.58\n"
          ]
        },
        {
          "output_type": "stream",
          "name": "stderr",
          "text": [
            "Epoch 11 [Train]: 100%|██████████| 391/391 [00:34<00:00, 11.33it/s, loss=1.77]\n"
          ]
        },
        {
          "output_type": "stream",
          "name": "stdout",
          "text": [
            "Epoch 11: loss 1.7729 | Acc 36.69% | Certified 13.46% | LC 18.52\n"
          ]
        },
        {
          "output_type": "stream",
          "name": "stderr",
          "text": [
            "Epoch 12 [Train]: 100%|██████████| 391/391 [00:32<00:00, 11.86it/s, loss=1.76]\n"
          ]
        },
        {
          "output_type": "stream",
          "name": "stdout",
          "text": [
            "Epoch 12: loss 1.7632 | Acc 34.83% | Certified 8.91% | LC 20.53\n"
          ]
        },
        {
          "output_type": "stream",
          "name": "stderr",
          "text": [
            "Epoch 13 [Train]: 100%|██████████| 391/391 [00:32<00:00, 11.93it/s, loss=1.76]\n"
          ]
        },
        {
          "output_type": "stream",
          "name": "stdout",
          "text": [
            "Epoch 13: loss 1.7553 | Acc 37.35% | Certified 10.33% | LC 22.50\n"
          ]
        },
        {
          "output_type": "stream",
          "name": "stderr",
          "text": [
            "Epoch 14 [Train]: 100%|██████████| 391/391 [00:32<00:00, 11.98it/s, loss=1.74]\n"
          ]
        },
        {
          "output_type": "stream",
          "name": "stdout",
          "text": [
            "Epoch 14: loss 1.7434 | Acc 37.50% | Certified 11.14% | LC 24.98\n"
          ]
        },
        {
          "output_type": "stream",
          "name": "stderr",
          "text": [
            "Epoch 15 [Train]: 100%|██████████| 391/391 [00:32<00:00, 11.98it/s, loss=1.74]\n"
          ]
        },
        {
          "output_type": "stream",
          "name": "stdout",
          "text": [
            "Epoch 15: loss 1.7361 | Acc 35.89% | Certified 8.65% | LC 27.38\n"
          ]
        },
        {
          "output_type": "stream",
          "name": "stderr",
          "text": [
            "Epoch 16 [Train]: 100%|██████████| 391/391 [00:33<00:00, 11.83it/s, loss=1.73]\n"
          ]
        },
        {
          "output_type": "stream",
          "name": "stdout",
          "text": [
            "Epoch 16: loss 1.7315 | Acc 39.17% | Certified 9.24% | LC 29.77\n"
          ]
        },
        {
          "output_type": "stream",
          "name": "stderr",
          "text": [
            "Epoch 17 [Train]: 100%|██████████| 391/391 [00:33<00:00, 11.54it/s, loss=1.72]\n"
          ]
        },
        {
          "output_type": "stream",
          "name": "stdout",
          "text": [
            "Epoch 17: loss 1.7224 | Acc 38.67% | Certified 9.48% | LC 32.20\n"
          ]
        },
        {
          "output_type": "stream",
          "name": "stderr",
          "text": [
            "Epoch 18 [Train]: 100%|██████████| 391/391 [00:34<00:00, 11.32it/s, loss=1.72]\n"
          ]
        },
        {
          "output_type": "stream",
          "name": "stdout",
          "text": [
            "Epoch 18: loss 1.7165 | Acc 39.44% | Certified 7.55% | LC 35.27\n"
          ]
        },
        {
          "output_type": "stream",
          "name": "stderr",
          "text": [
            "Epoch 19 [Train]: 100%|██████████| 391/391 [00:33<00:00, 11.62it/s, loss=1.72]\n"
          ]
        },
        {
          "output_type": "stream",
          "name": "stdout",
          "text": [
            "Epoch 19: loss 1.7215 | Acc 39.72% | Certified 8.91% | LC 37.71\n"
          ]
        },
        {
          "output_type": "stream",
          "name": "stderr",
          "text": [
            "Epoch 20 [Train]: 100%|██████████| 391/391 [00:33<00:00, 11.56it/s, loss=1.71]\n"
          ]
        },
        {
          "output_type": "stream",
          "name": "stdout",
          "text": [
            "Epoch 20: loss 1.7116 | Acc 39.60% | Certified 6.14% | LC 40.97\n"
          ]
        },
        {
          "output_type": "stream",
          "name": "stderr",
          "text": [
            "Epoch 21 [Train]: 100%|██████████| 391/391 [00:34<00:00, 11.41it/s, loss=1.71]\n"
          ]
        },
        {
          "output_type": "stream",
          "name": "stdout",
          "text": [
            "Epoch 21: loss 1.7121 | Acc 38.46% | Certified 6.07% | LC 43.77\n"
          ]
        },
        {
          "output_type": "stream",
          "name": "stderr",
          "text": [
            "Epoch 22 [Train]: 100%|██████████| 391/391 [00:33<00:00, 11.57it/s, loss=1.71]\n"
          ]
        },
        {
          "output_type": "stream",
          "name": "stdout",
          "text": [
            "Epoch 22: loss 1.7097 | Acc 39.48% | Certified 5.88% | LC 46.74\n"
          ]
        },
        {
          "output_type": "stream",
          "name": "stderr",
          "text": [
            "Epoch 23 [Train]: 100%|██████████| 391/391 [00:33<00:00, 11.62it/s, loss=1.7]\n"
          ]
        },
        {
          "output_type": "stream",
          "name": "stdout",
          "text": [
            "Epoch 23: loss 1.7030 | Acc 39.93% | Certified 5.33% | LC 49.92\n"
          ]
        },
        {
          "output_type": "stream",
          "name": "stderr",
          "text": [
            "Epoch 24 [Train]: 100%|██████████| 391/391 [00:34<00:00, 11.42it/s, loss=1.71]\n"
          ]
        },
        {
          "output_type": "stream",
          "name": "stdout",
          "text": [
            "Epoch 24: loss 1.7057 | Acc 41.91% | Certified 3.66% | LC 53.15\n"
          ]
        },
        {
          "output_type": "stream",
          "name": "stderr",
          "text": [
            "Epoch 25 [Train]: 100%|██████████| 391/391 [00:35<00:00, 11.06it/s, loss=1.7]\n"
          ]
        },
        {
          "output_type": "stream",
          "name": "stdout",
          "text": [
            "Epoch 25: loss 1.7010 | Acc 40.92% | Certified 4.70% | LC 55.96\n"
          ]
        },
        {
          "output_type": "stream",
          "name": "stderr",
          "text": [
            "Epoch 26 [Train]: 100%|██████████| 391/391 [00:34<00:00, 11.42it/s, loss=1.7]\n"
          ]
        },
        {
          "output_type": "stream",
          "name": "stdout",
          "text": [
            "Epoch 26: loss 1.6979 | Acc 42.12% | Certified 4.71% | LC 59.13\n"
          ]
        },
        {
          "output_type": "stream",
          "name": "stderr",
          "text": [
            "Epoch 27 [Train]: 100%|██████████| 391/391 [00:33<00:00, 11.66it/s, loss=1.7]\n"
          ]
        },
        {
          "output_type": "stream",
          "name": "stdout",
          "text": [
            "Epoch 27: loss 1.7033 | Acc 40.70% | Certified 3.60% | LC 61.64\n"
          ]
        },
        {
          "output_type": "stream",
          "name": "stderr",
          "text": [
            "Epoch 28 [Train]: 100%|██████████| 391/391 [00:33<00:00, 11.61it/s, loss=1.7]\n"
          ]
        },
        {
          "output_type": "stream",
          "name": "stdout",
          "text": [
            "Epoch 28: loss 1.6980 | Acc 42.64% | Certified 3.55% | LC 64.85\n"
          ]
        },
        {
          "output_type": "stream",
          "name": "stderr",
          "text": [
            "Epoch 29 [Train]: 100%|██████████| 391/391 [00:32<00:00, 11.92it/s, loss=1.7]\n"
          ]
        },
        {
          "output_type": "stream",
          "name": "stdout",
          "text": [
            "Epoch 29: loss 1.6957 | Acc 42.42% | Certified 3.25% | LC 67.51\n"
          ]
        },
        {
          "output_type": "stream",
          "name": "stderr",
          "text": [
            "Epoch 30 [Train]: 100%|██████████| 391/391 [00:32<00:00, 11.91it/s, loss=1.7]\n"
          ]
        },
        {
          "output_type": "stream",
          "name": "stdout",
          "text": [
            "Epoch 30: loss 1.6980 | Acc 41.60% | Certified 2.11% | LC 69.94\n"
          ]
        },
        {
          "output_type": "stream",
          "name": "stderr",
          "text": [
            "Epoch 31 [Train]: 100%|██████████| 391/391 [00:33<00:00, 11.84it/s, loss=1.69]\n"
          ]
        },
        {
          "output_type": "stream",
          "name": "stdout",
          "text": [
            "Epoch 31: loss 1.6911 | Acc 43.14% | Certified 3.14% | LC 72.56\n"
          ]
        },
        {
          "output_type": "stream",
          "name": "stderr",
          "text": [
            "Epoch 32 [Train]: 100%|██████████| 391/391 [00:32<00:00, 11.87it/s, loss=1.69]\n"
          ]
        },
        {
          "output_type": "stream",
          "name": "stdout",
          "text": [
            "Epoch 32: loss 1.6903 | Acc 43.47% | Certified 2.33% | LC 74.60\n"
          ]
        },
        {
          "output_type": "stream",
          "name": "stderr",
          "text": [
            "Epoch 33 [Train]: 100%|██████████| 391/391 [00:34<00:00, 11.47it/s, loss=1.69]\n"
          ]
        },
        {
          "output_type": "stream",
          "name": "stdout",
          "text": [
            "Epoch 33: loss 1.6879 | Acc 43.14% | Certified 2.12% | LC 77.27\n"
          ]
        },
        {
          "output_type": "stream",
          "name": "stderr",
          "text": [
            "Epoch 34 [Train]: 100%|██████████| 391/391 [00:33<00:00, 11.84it/s, loss=1.69]\n"
          ]
        },
        {
          "output_type": "stream",
          "name": "stdout",
          "text": [
            "Epoch 34: loss 1.6920 | Acc 42.14% | Certified 2.28% | LC 78.87\n"
          ]
        },
        {
          "output_type": "stream",
          "name": "stderr",
          "text": [
            "Epoch 35 [Train]: 100%|██████████| 391/391 [00:32<00:00, 11.91it/s, loss=1.69]\n"
          ]
        },
        {
          "output_type": "stream",
          "name": "stdout",
          "text": [
            "Epoch 35: loss 1.6884 | Acc 42.71% | Certified 1.80% | LC 80.66\n"
          ]
        },
        {
          "output_type": "stream",
          "name": "stderr",
          "text": [
            "Epoch 36 [Train]: 100%|██████████| 391/391 [00:33<00:00, 11.83it/s, loss=1.68]\n"
          ]
        },
        {
          "output_type": "stream",
          "name": "stdout",
          "text": [
            "Epoch 36: loss 1.6803 | Acc 42.60% | Certified 1.95% | LC 82.70\n"
          ]
        },
        {
          "output_type": "stream",
          "name": "stderr",
          "text": [
            "Epoch 37 [Train]: 100%|██████████| 391/391 [00:32<00:00, 11.90it/s, loss=1.69]\n"
          ]
        },
        {
          "output_type": "stream",
          "name": "stdout",
          "text": [
            "Epoch 37: loss 1.6863 | Acc 43.86% | Certified 1.66% | LC 84.36\n"
          ]
        },
        {
          "output_type": "stream",
          "name": "stderr",
          "text": [
            "Epoch 38 [Train]: 100%|██████████| 391/391 [00:32<00:00, 12.08it/s, loss=1.68]\n"
          ]
        },
        {
          "output_type": "stream",
          "name": "stdout",
          "text": [
            "Epoch 38: loss 1.6805 | Acc 42.93% | Certified 1.75% | LC 85.31\n"
          ]
        },
        {
          "output_type": "stream",
          "name": "stderr",
          "text": [
            "Epoch 39 [Train]: 100%|██████████| 391/391 [00:32<00:00, 12.14it/s, loss=1.68]\n"
          ]
        },
        {
          "output_type": "stream",
          "name": "stdout",
          "text": [
            "Epoch 39: loss 1.6822 | Acc 43.36% | Certified 1.62% | LC 86.68\n"
          ]
        },
        {
          "output_type": "stream",
          "name": "stderr",
          "text": [
            "Epoch 40 [Train]: 100%|██████████| 391/391 [00:33<00:00, 11.84it/s, loss=1.68]\n"
          ]
        },
        {
          "output_type": "stream",
          "name": "stdout",
          "text": [
            "Epoch 40: loss 1.6796 | Acc 43.54% | Certified 1.63% | LC 87.93\n"
          ]
        },
        {
          "output_type": "stream",
          "name": "stderr",
          "text": [
            "Epoch 41 [Train]: 100%|██████████| 391/391 [00:32<00:00, 11.96it/s, loss=1.68]\n"
          ]
        },
        {
          "output_type": "stream",
          "name": "stdout",
          "text": [
            "Epoch 41: loss 1.6780 | Acc 44.47% | Certified 1.53% | LC 88.43\n"
          ]
        },
        {
          "output_type": "stream",
          "name": "stderr",
          "text": [
            "Epoch 42 [Train]: 100%|██████████| 391/391 [00:32<00:00, 11.92it/s, loss=1.68]\n"
          ]
        },
        {
          "output_type": "stream",
          "name": "stdout",
          "text": [
            "Epoch 42: loss 1.6775 | Acc 43.66% | Certified 1.51% | LC 89.48\n"
          ]
        },
        {
          "output_type": "stream",
          "name": "stderr",
          "text": [
            "Epoch 43 [Train]: 100%|██████████| 391/391 [00:32<00:00, 11.87it/s, loss=1.67]\n"
          ]
        },
        {
          "output_type": "stream",
          "name": "stdout",
          "text": [
            "Epoch 43: loss 1.6732 | Acc 44.30% | Certified 1.62% | LC 90.05\n"
          ]
        },
        {
          "output_type": "stream",
          "name": "stderr",
          "text": [
            "Epoch 44 [Train]: 100%|██████████| 391/391 [00:32<00:00, 11.87it/s, loss=1.67]\n"
          ]
        },
        {
          "output_type": "stream",
          "name": "stdout",
          "text": [
            "Epoch 44: loss 1.6748 | Acc 44.24% | Certified 1.60% | LC 90.28\n"
          ]
        },
        {
          "output_type": "stream",
          "name": "stderr",
          "text": [
            "Epoch 45 [Train]: 100%|██████████| 391/391 [00:32<00:00, 11.88it/s, loss=1.67]\n"
          ]
        },
        {
          "output_type": "stream",
          "name": "stdout",
          "text": [
            "Epoch 45: loss 1.6720 | Acc 43.93% | Certified 1.63% | LC 90.61\n"
          ]
        },
        {
          "output_type": "stream",
          "name": "stderr",
          "text": [
            "Epoch 46 [Train]: 100%|██████████| 391/391 [00:32<00:00, 12.13it/s, loss=1.67]\n"
          ]
        },
        {
          "output_type": "stream",
          "name": "stdout",
          "text": [
            "Epoch 46: loss 1.6695 | Acc 44.03% | Certified 1.65% | LC 90.79\n"
          ]
        },
        {
          "output_type": "stream",
          "name": "stderr",
          "text": [
            "Epoch 47 [Train]: 100%|██████████| 391/391 [00:32<00:00, 12.17it/s, loss=1.67]\n"
          ]
        },
        {
          "output_type": "stream",
          "name": "stdout",
          "text": [
            "Epoch 47: loss 1.6708 | Acc 44.45% | Certified 1.61% | LC 90.96\n"
          ]
        },
        {
          "output_type": "stream",
          "name": "stderr",
          "text": [
            "Epoch 48 [Train]: 100%|██████████| 391/391 [00:33<00:00, 11.66it/s, loss=1.67]\n"
          ]
        },
        {
          "output_type": "stream",
          "name": "stdout",
          "text": [
            "Epoch 48: loss 1.6673 | Acc 44.23% | Certified 1.58% | LC 91.06\n"
          ]
        },
        {
          "output_type": "stream",
          "name": "stderr",
          "text": [
            "Epoch 49 [Train]: 100%|██████████| 391/391 [00:33<00:00, 11.62it/s, loss=1.67]\n"
          ]
        },
        {
          "output_type": "stream",
          "name": "stdout",
          "text": [
            "Epoch 49: loss 1.6661 | Acc 44.10% | Certified 1.58% | LC 91.09\n"
          ]
        },
        {
          "output_type": "stream",
          "name": "stderr",
          "text": [
            "Epoch 50 [Train]: 100%|██████████| 391/391 [00:33<00:00, 11.74it/s, loss=1.67]\n"
          ]
        },
        {
          "output_type": "stream",
          "name": "stdout",
          "text": [
            "Epoch 50: loss 1.6677 | Acc 44.17% | Certified 1.56% | LC 91.10\n"
          ]
        },
        {
          "output_type": "display_data",
          "data": {
            "text/plain": [
              "<Figure size 640x480 with 1 Axes>"
            ],
            "image/png": "[encoded data removed]"
          },
          "metadata": {}
        },
        {
          "output_type": "display_data",
          "data": {
            "text/plain": [
              "<Figure size 640x480 with 1 Axes>"
            ],
            "image/png": "[encoded data removed]"
          },
          "metadata": {}
        },
        {
          "output_type": "display_data",
          "data": {
            "text/plain": [
              "<Figure size 640x480 with 1 Axes>"
            ],
            "image/png": "[encoded data removed]"
          },
          "metadata": {}
        },
        {
          "output_type": "stream",
          "name": "stdout",
          "text": [
            "Saved lipsformer_emma.pt\n"
          ]
        }
      ]
    },
    {
      "cell_type": "code",
      "source": [],
      "metadata": {
        "id": "kqo7KLvV8UsS"
      },
      "execution_count": null,
      "outputs": []
    }
  ]
}